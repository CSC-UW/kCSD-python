{
 "cells": [
  {
   "cell_type": "markdown",
   "metadata": {},
   "source": [
    "# Basic features of kCSD\n",
    "In this tutorial we will cover the simplest case to test the kCSD method in 2 dimensions. The following steps, will take us through this.\n",
    "1. Define a region of interest - a 2 dimensional space as the test bench\n",
    "2. Using predefined test functions for the current sources, place a current source in this region\n",
    "3. Place an electrode configuration in the the region of interest\n",
    "4. Assuming ideal electrodes, obtain the potential generated at the electrodes due the the current sources\n",
    "5. From these potentials, the electrode locations and using the default conditions obtain the current source density estimate\n",
    "6. Perform cross validation to make sure the the estimate is not overfit"
   ]
  },
  {
   "cell_type": "code",
   "execution_count": 1,
   "metadata": {
    "collapsed": true
   },
   "outputs": [],
   "source": [
    "%matplotlib inline\n",
    "import numpy as np\n",
    "csd_at = np.mgrid[0.:1.:100j,                                                                                                                                                           \n",
    "                  0.:1.:100j]\n",
    "csd_x, csd_y = csd_at"
   ]
  },
  {
   "cell_type": "markdown",
   "metadata": {},
   "source": [
    "### 1. Region of interest\n",
    "We use the `numpy` python library, and define a 2 dimensional space using the `mgrid` function. We define the region of interest between `0` and `1` in the `xy` plane, with a resolution of `100` points in each dimension (as indicated by `100j`). The units we will assume are in $mm$. The first line starting with the `%` is to ensure the plots using this tutorial are displayed correctly."
   ]
  },
  {
   "cell_type": "code",
   "execution_count": 2,
   "metadata": {
    "collapsed": true
   },
   "outputs": [],
   "source": [
    "from kcsd import csd_profile as CSD\n",
    "CSD_PROFILE = CSD.gauss_2d_small\n",
    "true_csd = CSD_PROFILE(csd_at, seed=15) "
   ]
  },
  {
   "cell_type": "markdown",
   "metadata": {},
   "source": [
    "### 2. Predefined current sources for testing\n",
    "The `kcsd` library provides some test sources that can be generated on demand. This can be imported from the `csd_profile` module. This module contains some predefined current source generating functions which can be used as test sources. In this tutorial, we will use the `gauss_2d_small` function to generate a 2 dimensional gaussian small sources. The other option for the 2 dimensional sources is the `gauss_2d_large`. In order to generate the exact same source after each run, we must invoke this function using the same `seed` variable. For the sake of simplicity, these current sources are static and do not change with time. \n",
    "***\n",
    "To visualize the current sources, we can display the current source density as a heatmap. Also note that changing the `seed`, or the source type to `gauss_2d_large`, changes the type of the current sources generated. The code below displays this test source as what we refer to as the True CSD. For convinience let us define this as a function `make_plot`."
   ]
  },
  {
   "cell_type": "code",
   "execution_count": 3,
   "metadata": {
    "scrolled": false
   },
   "outputs": [
    {
     "data": {
      "image/png": "[encoded data removed]",
      "text/plain": [
       "<matplotlib.figure.Figure at 0x7f7d26cbfc18>"
      ]
     },
     "metadata": {},
     "output_type": "display_data"
    }
   ],
   "source": [
    "import matplotlib.pyplot as plt\n",
    "import matplotlib.cm as cm\n",
    "\n",
    "def make_plot(xx, yy, zz, title='True CSD', cmap=cm.bwr):\n",
    "    fig = plt.figure(figsize=(7, 7))\n",
    "    ax = plt.subplot(111)\n",
    "    ax.set_aspect('equal')\n",
    "    t_max = np.max(np.abs(zz))\n",
    "    levels = np.linspace(-1 * t_max, t_max, 32)\n",
    "    im = ax.contourf(xx, yy, zz, levels=levels, cmap=cmap)\n",
    "    ax.set_xlabel('X (mm)')\n",
    "    ax.set_ylabel('Y (mm)')\n",
    "    ax.set_title(title)\n",
    "    ticks = np.linspace(-1 * t_max, t_max, 3, endpoint=True)\n",
    "    plt.colorbar(im, orientation='horizontal', format='%.2f', ticks=ticks)\n",
    "    return ax\n",
    "make_plot(csd_x, csd_y, true_csd, title='True CSD', cmap=cm.bwr)"
   ]
  },
  {
   "cell_type": "code",
   "execution_count": 4,
   "metadata": {
    "collapsed": true
   },
   "outputs": [],
   "source": [
    "ele_x, ele_y = np.mgrid[0.05: 0.95: 10j,\n",
    "                        0.05: 0.95: 10j]\n",
    "ele_pos = np.vstack((ele_x.flatten(), ele_y.flatten())).T"
   ]
  },
  {
   "cell_type": "markdown",
   "metadata": {},
   "source": [
    "### 3. Place electrodes\n",
    "We now chose the positions of the electrodes within the region of interest. Once again, we obtain their positions using the `mgrid` function, and place them between `0.05` $mm$ and `0.95` $mm$ of the region of interest, with a resolution of `10` (as indicated by `10j`) in each dimensions, totalling to `100` electrodes. Notice that the electrodes do not precisely span the entire region of interest. Although this example illustrates regular spaced, the method does not require this and can handle any arbitrary distribution of electrodes."
   ]
  },
  {
   "cell_type": "code",
   "execution_count": 5,
   "metadata": {
    "collapsed": true
   },
   "outputs": [],
   "source": [
    "from scipy.integrate import simps\n",
    "\n",
    "def integrate_2d(csd_at, true_csd, ele_pos, h, csd_lims):\n",
    "    csd_x, csd_y = csd_at\n",
    "    xlin = csd_lims[0]                                                                                                                                                                                      \n",
    "    ylin = csd_lims[1]                                                                                                                                                                                      \n",
    "    Ny = ylin.shape[0]                                                                                                                                                                                      \n",
    "    m = np.sqrt((ele_pos[0] - csd_x)**2 + (ele_pos[1] - csd_y)**2)                                                                                                           \n",
    "    m[m < 0.0000001] = 0.0000001\n",
    "    y = np.arcsinh(2 * h / m) * true_csd\n",
    "    integral_1D = np.zeros(Ny)                                        \n",
    "    for i in range(Ny):                                                  \n",
    "        integral_1D[i] = simps(y[:, i], ylin)\n",
    "    integral = simps(integral_1D, xlin)\n",
    "    return integral\n",
    "\n",
    "pots = np.zeros(ele_pos.shape[0])\n",
    "xlin = csd_at[0, :, 0]\n",
    "ylin = csd_at[1, 0, :]\n",
    "h = 50.  # distance between the electrode plane and the CSD plane\n",
    "sigma = 1.0 # S/m\n",
    "for ii in range(ele_pos.shape[0]):                                                                                                                                                                      \n",
    "    pots[ii] = integrate_2d(csd_at, true_csd,                                                                                                                                                         \n",
    "                            [ele_pos[ii][0], ele_pos[ii][1]], h,                                                                                                                                      \n",
    "                            [xlin, ylin])\n",
    "pots /= 2 * np.pi * sigma"
   ]
  },
  {
   "cell_type": "markdown",
   "metadata": {},
   "source": [
    "### 4. Compute potentials generated\n",
    "At the given electrode positions, we need to evaluate the potential generated due to the current sources that were placed in step 2 (forward method). We make some assumptions regarding the location of the sources with respect to the electrode positions, given by the variable `h`. We aslo assume that the medium in between is infinite homogeneous medium whose conductivity is given by variable `sigma` and equals `1` $S/m$. We utilize the `scipy` library's `simps` function to integrate the current sources in the two dimensions to obtain the potentials -`pots`, at the electrode positions. We also assume that the electrodes are ideal, point sized and noise free.\n",
    "***\n",
    "To visulize the potentials, we use the potentials obtained at the electrodes positions (100 of them), and use the  `scipy` libraries `interpolate.griddata` function to extract the potentials in the plane of electrodes. While this is solely \"see\" the potentials. The kcsd method does only utilized the potentials recorded at the electrode postions as we shall see in the next step. We shall display this intepolated potential using a different heatmap to emphasize that the current sources and the potentials are two distinct quantities. We can also display the electrodes as a scattered points on this plot."
   ]
  },
  {
   "cell_type": "code",
   "execution_count": 6,
   "metadata": {},
   "outputs": [
    {
     "data": {
      "text/plain": [
       "<matplotlib.collections.PathCollection at 0x7f7d2372b7b8>"
      ]
     },
     "execution_count": 6,
     "metadata": {},
     "output_type": "execute_result"
    },
    {
     "data": {
      "image/png": "[encoded data removed]",
      "text/plain": [
       "<matplotlib.figure.Figure at 0x7f7d26ca2828>"
      ]
     },
     "metadata": {},
     "output_type": "display_data"
    }
   ],
   "source": [
    "from scipy.interpolate import griddata\n",
    "\n",
    "def grid(x, y, z):                                                                                                                                                                    \n",
    "    x = x.flatten()                                                                                                                                                                                             \n",
    "    y = y.flatten()                                                                                                                                                                                             \n",
    "    z = z.flatten()                                                                                                                                                                                             \n",
    "    xi, yi = np.mgrid[min(x):max(x):np.complex(0, 100),                                                                                                                                                        \n",
    "                      min(y):max(y):np.complex(0, 100)]                                                                                                                                                        \n",
    "    zi = griddata((x, y), z, (xi, yi), method='linear')                                                                                                                                                         \n",
    "    return xi, yi, zi\n",
    "\n",
    "pot_X, pot_Y, pot_Z = grid(ele_pos[:, 0], ele_pos[:, 1], pots)\n",
    "ax = make_plot(pot_X, pot_Y, pot_Z, title='Interpolated potentials', cmap=cm.PRGn)\n",
    "ax.scatter(ele_pos[:, 0], ele_pos[:, 1], 10, c='k')"
   ]
  },
  {
   "cell_type": "code",
   "execution_count": 7,
   "metadata": {
    "collapsed": true
   },
   "outputs": [],
   "source": [
    "from kcsd import KCSD2D\n",
    "\n",
    "pots = pots.reshape((len(ele_pos), 1)) # first time point \n",
    "k = KCSD2D(ele_pos, pots, h=h, sigma=sigma,                                                                                                                                                       \n",
    "           xmin=0.0, xmax=1.0,\n",
    "           ymin=0.0, ymax=1.0,\n",
    "           n_src_init=1000, src_type='gauss', R_init=1.)\n",
    "est_csd = k.values('CSD')"
   ]
  },
  {
   "cell_type": "markdown",
   "metadata": {},
   "source": [
    "### 5. kCSD method\n",
    "Here we import from the `kcsd` library, the relevant method `KCSD2D` to estimate the current source density.\n",
    "* We reshape the potentials so that they correspond to the first time point of the recording. In an actual recording this would be of the shape $N_{ele} \\times N_{time}$, where $N_{ele}$ is the number of electrodes and $N_{time}$ is the total number of time points of recording. \n",
    "* Next, we invoke the `KCSD2D` class with the relevant parameters. The only necessary parameters that need to passed to this class are the positions of the electrodes - `ele_pos` and the potentials they see - `pots`.\n",
    "* Additionally, we can also \"tell\" the method regarding some of the assumptions to take for the forward method by passing the variables `h` and `sigma`. \n",
    "* Similarly, that we expect the sources to lie between `xmin`,`xmax` and `ymin`,`ymax`. We also impose to try to `1000` basis functions of the type `gauss`, and to guess the initial size of the gaussian basis source `R_init` to be `1`.\n",
    "* In the final step we obtain the estimated CSD by asking the method for their value and storing it.\n",
    "***\n",
    "We once again can visualize the estimated current source density my making a heatmap of this estimation. This must be compared to the True CSD obtained at the end of step 2. However we notice that the estimation does not resemble the current source which we are testing. Perhaps the parameters that we are passing were a bad choice. For these reasons we perform cross validation to ensure that the estimate is not being overfit. "
   ]
  },
  {
   "cell_type": "code",
   "execution_count": 8,
   "metadata": {},
   "outputs": [
    {
     "data": {
      "image/png": "[encoded data removed]",
      "text/plain": [
       "<matplotlib.figure.Figure at 0x7f7d26cbf400>"
      ]
     },
     "metadata": {},
     "output_type": "display_data"
    }
   ],
   "source": [
    "make_plot(k.estm_x, k.estm_y, est_csd[:, :, 0], \n",
    "          title='Estimated CSD without CV', cmap=cm.bwr) # First time point"
   ]
  },
  {
   "cell_type": "code",
   "execution_count": 9,
   "metadata": {
    "scrolled": true
   },
   "outputs": [
    {
     "name": "stdout",
     "output_type": "stream",
     "text": [
      "No lambda given, using defaults\n",
      "Cross validating R (all lambda) : 0.01\n",
      "Cross validating R (all lambda) : 0.02\n",
      "Cross validating R (all lambda) : 0.03\n",
      "Cross validating R (all lambda) : 0.04\n",
      "Cross validating R (all lambda) : 0.05\n",
      "Cross validating R (all lambda) : 0.06\n",
      "Cross validating R (all lambda) : 0.07\n",
      "Cross validating R (all lambda) : 0.08\n",
      "Cross validating R (all lambda) : 0.09\n",
      "Cross validating R (all lambda) : 0.1\n",
      "Cross validating R (all lambda) : 0.11\n",
      "Cross validating R (all lambda) : 0.12\n",
      "Cross validating R (all lambda) : 0.13\n",
      "Cross validating R (all lambda) : 0.14\n",
      "Cross validating R (all lambda) : 0.15\n",
      "R, lambda : 0.11 1.46779926762e-06\n"
     ]
    }
   ],
   "source": [
    "k.cross_validate(Rs=np.linspace(0.01, 0.15, 15))\n",
    "est_csd = k.values('CSD')"
   ]
  },
  {
   "cell_type": "markdown",
   "metadata": {},
   "source": [
    "### 6. Cross validation\n",
    "The cross validation step is a single line command that automatically perform cross validation using leave one out approach of the electrodes. Here the crossvalidation is performed for a range of `R` values which gives the size of the gaussian basis function, and the regularization parameter $\\lambda$ values. At the end of the this step, we would obtain the optimal parameters that would correct for any overfitting. The outputs the progress of the crossvalidation step and displays the optimal candidates in the last line. An alternative way of finding these optimal parameters would be to utilize the L-curve method.\n",
    "***\n",
    "Once again, we can visualise the current source density estimation after cross validation step as a heat map. We find that the estimation of the current sources resembles the True CSD."
   ]
  },
  {
   "cell_type": "code",
   "execution_count": 10,
   "metadata": {},
   "outputs": [
    {
     "data": {
      "image/png": "[encoded data removed]",
      "text/plain": [
       "<matplotlib.figure.Figure at 0x7f7d072369e8>"
      ]
     },
     "metadata": {},
     "output_type": "display_data"
    }
   ],
   "source": [
    "make_plot(k.estm_x, k.estm_y, est_csd[:, :, 0], \n",
    "          title='Estimated CSD with CV', cmap=cm.bwr) # First time point"
   ]
  }
 ],
 "metadata": {
  "kernelspec": {
   "display_name": "Python 3",
   "language": "python",
   "name": "python3"
  },
  "language_info": {
   "codemirror_mode": {
    "name": "ipython",
    "version": 3
   },
   "file_extension": ".py",
   "mimetype": "text/x-python",
   "name": "python",
   "nbconvert_exporter": "python",
   "pygments_lexer": "ipython3",
   "version": "3.5.4"
  },
  "varInspector": {
   "cols": {
    "lenName": 16,
    "lenType": 16,
    "lenVar": 40
   },
   "kernels_config": {
    "python": {
     "delete_cmd_postfix": "",
     "delete_cmd_prefix": "del ",
     "library": "var_list.py",
     "varRefreshCmd": "print(var_dic_list())"
    },
    "r": {
     "delete_cmd_postfix": ") ",
     "delete_cmd_prefix": "rm(",
     "library": "var_list.r",
     "varRefreshCmd": "cat(var_dic_list()) "
    }
   },
   "types_to_exclude": [
    "module",
    "function",
    "builtin_function_or_method",
    "instance",
    "_Feature"
   ],
   "window_display": false
  },
  "widgets": {
   "application/vnd.jupyter.widget-state+json": {
    "state": {
     "00651d2c28434e838145a6b0a836a80e": {
      "model_module": "@jupyter-widgets/controls",
      "model_module_version": "1.0.0",
      "model_name": "VBoxModel",
      "state": {
       "children": [
        "IPY_MODEL_f1b285036f6744a6a51b66e8a675c150"
       ],
       "layout": "IPY_MODEL_4fe4255852204a42adb657be9164dc64"
      }
     },
     "01afbb5623ad49d9901150f11b38179e": {
      "model_module": "@jupyter-widgets/controls",
      "model_module_version": "1.0.0",
      "model_name": "VBoxModel",
      "state": {
       "children": [
        "IPY_MODEL_d491d33c4cd8409bbc76d5296ae1d294"
       ],
       "layout": "IPY_MODEL_c6c65185c513491aa2c9fb0b8437edd8"
      }
     },
     "0485dd8092074828b6f357b6bc68cd6a": {
      "model_module": "@jupyter-widgets/base",
      "model_module_version": "1.0.0",
      "model_name": "LayoutModel",
      "state": {}
     },
     "04ba5f47bbf942c98020bf60b5a45e17": {
      "model_module": "@jupyter-widgets/controls",
      "model_module_version": "1.0.0",
      "model_name": "ToggleButtonsModel",
      "state": {
       "_options_labels": [
        "1D",
        "2D",
        "3D"
       ],
       "button_style": "",
       "description": "Dimensions of the setup:",
       "icons": [],
       "index": 0,
       "layout": "IPY_MODEL_d90a1249689448e3aedefd668ba40d12",
       "style": "IPY_MODEL_8367fbf6213947478c40f3cee4a2eb41",
       "tooltips": [
        "Laminar probes",
        "MEA like flat electrodes",
        "Utah array or SEEG"
       ]
      }
     },
     "052897ada3c944c8a22c13a7c5671e20": {
      "model_module": "@jupyter-widgets/controls",
      "model_module_version": "1.0.0",
      "model_name": "DescriptionStyleModel",
      "state": {
       "description_width": ""
      }
     },
     "06226fed6350423cbf9c246422cc66ae": {
      "model_module": "@jupyter-widgets/controls",
      "model_module_version": "1.0.0",
      "model_name": "FloatTextModel",
      "state": {
       "description": "xmax:",
       "layout": "IPY_MODEL_e02cc5f420c648a589907ac0a314f55d",
       "step": null,
       "style": "IPY_MODEL_052897ada3c944c8a22c13a7c5671e20",
       "value": 1
      }
     },
     "0670e03983264e65823d6f426324a905": {
      "model_module": "@jupyter-widgets/controls",
      "model_module_version": "1.0.0",
      "model_name": "DescriptionStyleModel",
      "state": {
       "description_width": ""
      }
     },
     "073c23380ee9460f8a71a41fcc4ac272": {
      "model_module": "@jupyter-widgets/base",
      "model_module_version": "1.0.0",
      "model_name": "LayoutModel",
      "state": {}
     },
     "07673bc500be4a35b192867758d88009": {
      "model_module": "@jupyter-widgets/controls",
      "model_module_version": "1.0.0",
      "model_name": "DescriptionStyleModel",
      "state": {
       "description_width": ""
      }
     },
     "07cbacec48884a459bd974c61323131e": {
      "model_module": "@jupyter-widgets/controls",
      "model_module_version": "1.0.0",
      "model_name": "ToggleButtonsStyleModel",
      "state": {
       "_model_module": "@jupyter-widgets/controls",
       "button_width": ""
      }
     },
     "0938246080f24e6c8145ef7906c3463b": {
      "model_module": "@jupyter-widgets/base",
      "model_module_version": "1.0.0",
      "model_name": "LayoutModel",
      "state": {}
     },
     "096cb4cb3ab443e7a3e57771593c9a50": {
      "model_module": "@jupyter-widgets/controls",
      "model_module_version": "1.0.0",
      "model_name": "ToggleButtonsModel",
      "state": {
       "_options_labels": [
        "dipole gauss",
        "monopole gauss"
       ],
       "button_style": "",
       "description": "True source type",
       "icons": [],
       "index": 0,
       "layout": "IPY_MODEL_c5cba1db4b2e42ea8cfe4adaa588b16c",
       "style": "IPY_MODEL_07cbacec48884a459bd974c61323131e",
       "tooltips": []
      }
     },
     "0a8b4b9905c946e3aa9cfccec03594b6": {
      "model_module": "@jupyter-widgets/base",
      "model_module_version": "1.0.0",
      "model_name": "LayoutModel",
      "state": {}
     },
     "0ad9a4906ddd4ee3ab6f7f243ebc8c5c": {
      "model_module": "@jupyter-widgets/base",
      "model_module_version": "1.0.0",
      "model_name": "LayoutModel",
      "state": {}
     },
     "0c50aadc38f8441b81ce3ef9cba32743": {
      "model_module": "@jupyter-widgets/controls",
      "model_module_version": "1.0.0",
      "model_name": "ToggleButtonsModel",
      "state": {
       "_options_labels": [
        "monopole gauss",
        "dipole gauss"
       ],
       "button_style": "",
       "description": "True source type",
       "icons": [],
       "index": 0,
       "layout": "IPY_MODEL_31da829ebd6b48e892b4af4b99d926d0",
       "style": "IPY_MODEL_c0038387e6c94080a05df22f68670c03",
       "tooltips": []
      }
     },
     "0d808c698867453584de32780a750b93": {
      "model_module": "@jupyter-widgets/base",
      "model_module_version": "1.0.0",
      "model_name": "LayoutModel",
      "state": {}
     },
     "0d9d0db19c51445581a1e399fb1aba53": {
      "model_module": "@jupyter-widgets/controls",
      "model_module_version": "1.0.0",
      "model_name": "FloatTextModel",
      "state": {
       "description": "xmax:",
       "layout": "IPY_MODEL_706759c745014a3f8c256db8a4538ed8",
       "step": null,
       "style": "IPY_MODEL_7523448d77a0455994995076a029a09a",
       "value": 1
      }
     },
     "0e36067713d34649aa6bdb55fd4c1cc5": {
      "model_module": "@jupyter-widgets/base",
      "model_module_version": "1.0.0",
      "model_name": "LayoutModel",
      "state": {}
     },
     "0f8b6079eede4ee0b617fea7573821c7": {
      "model_module": "@jupyter-widgets/base",
      "model_module_version": "1.0.0",
      "model_name": "LayoutModel",
      "state": {}
     },
     "0fa19fd690884c188c58720fa119bbd3": {
      "model_module": "@jupyter-widgets/controls",
      "model_module_version": "1.0.0",
      "model_name": "DescriptionStyleModel",
      "state": {
       "description_width": ""
      }
     },
     "120a3f6518db4362929755447bc3c0dc": {
      "model_module": "@jupyter-widgets/controls",
      "model_module_version": "1.0.0",
      "model_name": "DescriptionStyleModel",
      "state": {
       "description_width": ""
      }
     },
     "1340b7d9568f4528958fafa775447c7b": {
      "model_module": "@jupyter-widgets/controls",
      "model_module_version": "1.0.0",
      "model_name": "FloatTextModel",
      "state": {
       "description": "gdx:",
       "layout": "IPY_MODEL_d7756b30afed412eb0de8e60583e2ade",
       "step": null,
       "style": "IPY_MODEL_eea69e7bc56f43499387934c7e55dc2b",
       "value": 0.01
      }
     },
     "141484a366a744228d66ad99550e33f6": {
      "model_module": "@jupyter-widgets/base",
      "model_module_version": "1.0.0",
      "model_name": "LayoutModel",
      "state": {}
     },
     "141734a7afe248b59d51df37cd2adfe7": {
      "model_module": "@jupyter-widgets/controls",
      "model_module_version": "1.0.0",
      "model_name": "DescriptionStyleModel",
      "state": {
       "description_width": ""
      }
     },
     "1536f3419aae4adb9d64756a08e3631c": {
      "model_module": "@jupyter-widgets/controls",
      "model_module_version": "1.0.0",
      "model_name": "FloatTextModel",
      "state": {
       "description": "R_init:",
       "layout": "IPY_MODEL_7d79f92285514a7c98818b5a36de77d2",
       "step": null,
       "style": "IPY_MODEL_7c1899bcba56463199e6b5d743b42822",
       "value": 0.27
      }
     },
     "15defdf633a3438898c2b114be041d2a": {
      "model_module": "@jupyter-widgets/base",
      "model_module_version": "1.0.0",
      "model_name": "LayoutModel",
      "state": {}
     },
     "160ad3df0f6043beaecc5ec6ab0cd35c": {
      "model_module": "@jupyter-widgets/controls",
      "model_module_version": "1.0.0",
      "model_name": "FloatTextModel",
      "state": {
       "description": "R_init:",
       "layout": "IPY_MODEL_be2146ef7888489e9bade6f4776987a9",
       "step": null,
       "style": "IPY_MODEL_0670e03983264e65823d6f426324a905",
       "value": 0.27
      }
     },
     "163aa34cb48c4065a9c654f54eb71d9b": {
      "model_module": "@jupyter-widgets/controls",
      "model_module_version": "1.0.0",
      "model_name": "FloatTextModel",
      "state": {
       "description": "ext_x:",
       "layout": "IPY_MODEL_85ab5d18f0574655884ca897f400c85c",
       "step": null,
       "style": "IPY_MODEL_f69fcf225a644bcca3342c53b1bbae71"
      }
     },
     "1671d3305e854dfa9db530b9e3d918ec": {
      "model_module": "@jupyter-widgets/controls",
      "model_module_version": "1.0.0",
      "model_name": "VBoxModel",
      "state": {
       "children": [
        "IPY_MODEL_5a4b705c6bf14db0bcdae9d6ae5ea8d5",
        "IPY_MODEL_8a67ce5370ee495485139d5a1f8d4cef"
       ],
       "layout": "IPY_MODEL_17789a21c001473c8e05abe2563bf746"
      }
     },
     "16f57b9bd61c4ff39da9e85a58da8fb5": {
      "model_module": "@jupyter-widgets/controls",
      "model_module_version": "1.0.0",
      "model_name": "ToggleButtonsModel",
      "state": {
       "_options_labels": [
        "KCSD1D"
       ],
       "button_style": "",
       "description": "KCSD method",
       "icons": [],
       "index": 0,
       "layout": "IPY_MODEL_8732d1262ace46388cf2b7a41bf3844c",
       "style": "IPY_MODEL_a2a8babfe8454e5e8023c6df43592693",
       "tooltips": []
      }
     },
     "176b125f754949f7acf01bf3dc9c4e44": {
      "model_module": "@jupyter-widgets/base",
      "model_module_version": "1.0.0",
      "model_name": "LayoutModel",
      "state": {}
     },
     "17789a21c001473c8e05abe2563bf746": {
      "model_module": "@jupyter-widgets/base",
      "model_module_version": "1.0.0",
      "model_name": "LayoutModel",
      "state": {}
     },
     "1901c8caca2843db95559959845cee74": {
      "model_module": "@jupyter-widgets/controls",
      "model_module_version": "1.0.0",
      "model_name": "VBoxModel",
      "state": {
       "children": [
        "IPY_MODEL_4bea6d2b7d9c4990b7c32d6a3781436b",
        "IPY_MODEL_b279957f43ea4dd48a7dda796e6aaa9d"
       ],
       "layout": "IPY_MODEL_f42aa4a6b3ed481aab5e6e7b42ddcebb"
      }
     },
     "196fe610bbd64352aba87dd0d31e6874": {
      "model_module": "@jupyter-widgets/controls",
      "model_module_version": "1.0.0",
      "model_name": "DescriptionStyleModel",
      "state": {
       "description_width": ""
      }
     },
     "1ae4ca6f5610477082533212328641f5": {
      "model_module": "@jupyter-widgets/controls",
      "model_module_version": "1.0.0",
      "model_name": "FloatTextModel",
      "state": {
       "description": "h:",
       "layout": "IPY_MODEL_24da8495f84d4c59824f444e363feec5",
       "step": null,
       "style": "IPY_MODEL_07673bc500be4a35b192867758d88009",
       "value": 1
      }
     },
     "1b0268213b4747c391276104cf374f0e": {
      "model_module": "@jupyter-widgets/controls",
      "model_module_version": "1.0.0",
      "model_name": "ToggleButtonsModel",
      "state": {
       "_options_labels": [
        "monopole gauss",
        "dipole gauss"
       ],
       "button_style": "",
       "description": "True source type",
       "icons": [],
       "index": 0,
       "layout": "IPY_MODEL_f3c1aec78caa4d7781e08f26d27faf77",
       "style": "IPY_MODEL_95abfb58d05b477e8e5da08f5b1d26de",
       "tooltips": []
      }
     },
     "1b122054f4104c6e935cc298a6cf8a0c": {
      "model_module": "@jupyter-widgets/base",
      "model_module_version": "1.0.0",
      "model_name": "LayoutModel",
      "state": {}
     },
     "1d6d61b4667b484db032f113c14c9dd7": {
      "model_module": "@jupyter-widgets/controls",
      "model_module_version": "1.0.0",
      "model_name": "VBoxModel",
      "state": {
       "children": [
        "IPY_MODEL_7e0a0e1dfb9c40edacef5fcc1686f271",
        "IPY_MODEL_967ede19f8bd4790ac2a359a027b6100",
        "IPY_MODEL_e8134e06120e4819943b78ad223a2799",
        "IPY_MODEL_1340b7d9568f4528958fafa775447c7b"
       ],
       "layout": "IPY_MODEL_73fbfd18aef442ab9549252d132d11c8"
      }
     },
     "1e0fafd3768043acb3ead826676ff342": {
      "model_module": "@jupyter-widgets/controls",
      "model_module_version": "1.0.0",
      "model_name": "VBoxModel",
      "state": {
       "children": [
        "IPY_MODEL_31c19aec03e042ebb31f443d5361763a"
       ],
       "layout": "IPY_MODEL_3d5eb1ec29f249fd8df41e9d4675fd88"
      }
     },
     "1e64614e75e346de8310f00ede484e43": {
      "model_module": "@jupyter-widgets/controls",
      "model_module_version": "1.0.0",
      "model_name": "FloatTextModel",
      "state": {
       "description": "lambd:",
       "layout": "IPY_MODEL_073c23380ee9460f8a71a41fcc4ac272",
       "step": null,
       "style": "IPY_MODEL_4a2b35fd6bc443208ed2ec8e2f699417"
      }
     },
     "1f4c0e64554e467a8f5e3dc106d1362b": {
      "model_module": "@jupyter-widgets/controls",
      "model_module_version": "1.0.0",
      "model_name": "VBoxModel",
      "state": {
       "children": [
        "IPY_MODEL_86bda8813a1f431fbb7c44dca9179141",
        "IPY_MODEL_ebf55c443b594d43935b7f6aa90e4ce0",
        "IPY_MODEL_b2c8bd668ef643d68bd337e2e09fa447"
       ],
       "layout": "IPY_MODEL_98992bc5689f4a2991e8b23f2f277144"
      }
     },
     "21a159e8fdf8438285323b9eaeeb93ee": {
      "model_module": "@jupyter-widgets/controls",
      "model_module_version": "1.0.0",
      "model_name": "VBoxModel",
      "state": {
       "children": [
        "IPY_MODEL_a5861a56a8f543f18f4a699ab08e21f9"
       ],
       "layout": "IPY_MODEL_86e2861d879b4794be9b77c93b465348"
      }
     },
     "21b2bd3e550646a689899c179ff4c798": {
      "model_module": "@jupyter-widgets/base",
      "model_module_version": "1.0.0",
      "model_name": "LayoutModel",
      "state": {}
     },
     "23090f2e8fd04dda96563b1a40b19e2a": {
      "model_module": "@jupyter-widgets/controls",
      "model_module_version": "1.0.0",
      "model_name": "VBoxModel",
      "state": {
       "children": [
        "IPY_MODEL_4bea6d2b7d9c4990b7c32d6a3781436b",
        "IPY_MODEL_b279957f43ea4dd48a7dda796e6aaa9d",
        "IPY_MODEL_dd7b8ddb2d7440598eac78bf53d21349"
       ],
       "layout": "IPY_MODEL_0485dd8092074828b6f357b6bc68cd6a"
      }
     },
     "232e6be768e5493ea62c77fadf817912": {
      "model_module": "@jupyter-widgets/controls",
      "model_module_version": "1.0.0",
      "model_name": "DescriptionStyleModel",
      "state": {
       "description_width": ""
      }
     },
     "24a7e96799994f2195ff9847c017b2ad": {
      "model_module": "@jupyter-widgets/base",
      "model_module_version": "1.0.0",
      "model_name": "LayoutModel",
      "state": {}
     },
     "24da8495f84d4c59824f444e363feec5": {
      "model_module": "@jupyter-widgets/base",
      "model_module_version": "1.0.0",
      "model_name": "LayoutModel",
      "state": {}
     },
     "26ded960df754b80947b86af0ee24a0c": {
      "model_module": "@jupyter-widgets/controls",
      "model_module_version": "1.0.0",
      "model_name": "FloatTextModel",
      "state": {
       "description": "ext_x:",
       "layout": "IPY_MODEL_ef86f279f3c840e981401a4e6d6e9bc8",
       "step": null,
       "style": "IPY_MODEL_232e6be768e5493ea62c77fadf817912"
      }
     },
     "278b75ea3ff4414b9da4da6b3141157d": {
      "model_module": "@jupyter-widgets/controls",
      "model_module_version": "1.0.0",
      "model_name": "DescriptionStyleModel",
      "state": {
       "description_width": ""
      }
     },
     "282e062fc87147668410d4fc80ddfaf3": {
      "model_module": "@jupyter-widgets/base",
      "model_module_version": "1.0.0",
      "model_name": "LayoutModel",
      "state": {}
     },
     "28e1304f1ccd4871a3f83a80bcc36e7b": {
      "model_module": "@jupyter-widgets/base",
      "model_module_version": "1.0.0",
      "model_name": "LayoutModel",
      "state": {}
     },
     "29ece9ebb98b4ba2a8c129e76e5123b9": {
      "model_module": "@jupyter-widgets/base",
      "model_module_version": "1.0.0",
      "model_name": "LayoutModel",
      "state": {}
     },
     "2a99258f64e34bb6a1d3bbfec649654b": {
      "model_module": "@jupyter-widgets/base",
      "model_module_version": "1.0.0",
      "model_name": "LayoutModel",
      "state": {}
     },
     "2ae977b355b444dc80af5c9fb13dc90f": {
      "model_module": "@jupyter-widgets/base",
      "model_module_version": "1.0.0",
      "model_name": "LayoutModel",
      "state": {}
     },
     "2b59c79f91884258a72278a5f79ba314": {
      "model_module": "@jupyter-widgets/base",
      "model_module_version": "1.0.0",
      "model_name": "LayoutModel",
      "state": {}
     },
     "2b637f3ba3e74d5780c78d363f67e634": {
      "model_module": "@jupyter-widgets/controls",
      "model_module_version": "1.0.0",
      "model_name": "VBoxModel",
      "state": {
       "children": [
        "IPY_MODEL_a5861a56a8f543f18f4a699ab08e21f9",
        "IPY_MODEL_b964bcff730a4d3fa547de3e453a9381"
       ],
       "layout": "IPY_MODEL_2d7cf4c6e50e4e12b48f8ef01d19abd5"
      }
     },
     "2bcc093c700d40ab92a761fb78cad2ff": {
      "model_module": "@jupyter-widgets/base",
      "model_module_version": "1.0.0",
      "model_name": "LayoutModel",
      "state": {}
     },
     "2bfcef9b6df543b8bab17cf020e9315f": {
      "model_module": "@jupyter-widgets/controls",
      "model_module_version": "1.0.0",
      "model_name": "DescriptionStyleModel",
      "state": {
       "description_width": ""
      }
     },
     "2d7cf4c6e50e4e12b48f8ef01d19abd5": {
      "model_module": "@jupyter-widgets/base",
      "model_module_version": "1.0.0",
      "model_name": "LayoutModel",
      "state": {}
     },
     "2da7a1ad0dad4a008c1aa84ccca202f8": {
      "model_module": "@jupyter-widgets/controls",
      "model_module_version": "1.0.0",
      "model_name": "FloatTextModel",
      "state": {
       "description": "lambd:",
       "layout": "IPY_MODEL_ac142365b24640d488b09598ece0f04c",
       "step": null,
       "style": "IPY_MODEL_887237dc76ca4323950b486ff5c9ebda"
      }
     },
     "303771aeb5c24d7bb7ecff2b5d6e2d53": {
      "model_module": "@jupyter-widgets/controls",
      "model_module_version": "1.0.0",
      "model_name": "DescriptionStyleModel",
      "state": {
       "description_width": ""
      }
     },
     "30665a7a259548c19e4779e207de0e68": {
      "model_module": "@jupyter-widgets/controls",
      "model_module_version": "1.0.0",
      "model_name": "VBoxModel",
      "state": {
       "children": [
        "IPY_MODEL_1536f3419aae4adb9d64756a08e3631c"
       ],
       "layout": "IPY_MODEL_35912b31716940f68a9e868269cd47c5"
      }
     },
     "308a6e75c1fa4ec1b7b993add68890f2": {
      "model_module": "@jupyter-widgets/base",
      "model_module_version": "1.0.0",
      "model_name": "LayoutModel",
      "state": {}
     },
     "30d13e202d2f459a92776d0bb3818460": {
      "model_module": "@jupyter-widgets/base",
      "model_module_version": "1.0.0",
      "model_name": "LayoutModel",
      "state": {}
     },
     "30ebda6a10414c06a05673eeb3f1a76d": {
      "model_module": "@jupyter-widgets/base",
      "model_module_version": "1.0.0",
      "model_name": "LayoutModel",
      "state": {}
     },
     "31682248c5374eb4b85d264041970fd4": {
      "model_module": "@jupyter-widgets/controls",
      "model_module_version": "1.0.0",
      "model_name": "ToggleButtonsModel",
      "state": {
       "_options_labels": [
        "KCSD1D"
       ],
       "button_style": "",
       "description": "KCSD method",
       "icons": [],
       "index": 0,
       "layout": "IPY_MODEL_c0be61198ad3421396ace804e2021c57",
       "style": "IPY_MODEL_5b771d6ffd8f451697dbbc5dc8a08026",
       "tooltips": []
      }
     },
     "31c19aec03e042ebb31f443d5361763a": {
      "model_module": "@jupyter-widgets/controls",
      "model_module_version": "1.0.0",
      "model_name": "FloatTextModel",
      "state": {
       "description": "h:",
       "layout": "IPY_MODEL_734728fd8fcd46cc9bc93635a1cbde8f",
       "step": null,
       "style": "IPY_MODEL_8c4d5121b7054055b59b7b26382d965c",
       "value": 1
      }
     },
     "31c74c3295034a32ade57b6ba859bb01": {
      "model_module": "@jupyter-widgets/controls",
      "model_module_version": "1.0.0",
      "model_name": "VBoxModel",
      "state": {
       "children": [
        "IPY_MODEL_74d5cb86958c4894b371f571a709a589",
        "IPY_MODEL_0d9d0db19c51445581a1e399fb1aba53",
        "IPY_MODEL_26ded960df754b80947b86af0ee24a0c"
       ],
       "layout": "IPY_MODEL_f3191083fc1f4c688b369cb79136dfbb"
      }
     },
     "31da829ebd6b48e892b4af4b99d926d0": {
      "model_module": "@jupyter-widgets/base",
      "model_module_version": "1.0.0",
      "model_name": "LayoutModel",
      "state": {}
     },
     "31dcb68cfa1d40779f4e10b2a80a3fab": {
      "model_module": "@jupyter-widgets/controls",
      "model_module_version": "1.0.0",
      "model_name": "AccordionModel",
      "state": {
       "_titles": {
        "0": "Source assumptions",
        "1": "Estimate positions",
        "2": "Medium assumptions"
       },
       "children": [
        "IPY_MODEL_98973ab6326143c78cb9591b5b4fcb99",
        "IPY_MODEL_f304bae7f0704a84ace85cfb1980a775",
        "IPY_MODEL_6bf13e25bba14654a28f0a2d08655b02"
       ],
       "layout": "IPY_MODEL_4048a87a26f64854a73374e094bf7010"
      }
     },
     "32fb30d9d99245518f3b99038d4dfdaa": {
      "model_module": "@jupyter-widgets/controls",
      "model_module_version": "1.0.0",
      "model_name": "AccordionModel",
      "state": {
       "_titles": {
        "0": "Source assumptions",
        "1": "Estimate positions",
        "2": "Medium assumptions"
       },
       "children": [
        "IPY_MODEL_f68fbb5382ae4366a8482519c86355fc",
        "IPY_MODEL_ec2f9ec8d40d4ec5ab37f902a7c2b810",
        "IPY_MODEL_1e0fafd3768043acb3ead826676ff342"
       ],
       "layout": "IPY_MODEL_f249e6577c824af2abe2b74cf64a2871"
      }
     },
     "33d852e6e0684984a53ef91a53b3308b": {
      "model_module": "@jupyter-widgets/controls",
      "model_module_version": "1.0.0",
      "model_name": "DescriptionStyleModel",
      "state": {
       "description_width": ""
      }
     },
     "35912b31716940f68a9e868269cd47c5": {
      "model_module": "@jupyter-widgets/base",
      "model_module_version": "1.0.0",
      "model_name": "LayoutModel",
      "state": {}
     },
     "362ea9a210b44a7f8784fe18e78b5bd9": {
      "model_module": "@jupyter-widgets/base",
      "model_module_version": "1.0.0",
      "model_name": "LayoutModel",
      "state": {}
     },
     "368ff8af8f564b2c98f4ca56e8759e21": {
      "model_module": "@jupyter-widgets/controls",
      "model_module_version": "1.0.0",
      "model_name": "DescriptionStyleModel",
      "state": {
       "description_width": ""
      }
     },
     "36efd19e8dce448b81e06f712873fe0a": {
      "model_module": "@jupyter-widgets/base",
      "model_module_version": "1.0.0",
      "model_name": "LayoutModel",
      "state": {}
     },
     "39c423222e5f4e2fb3c5794656eada6c": {
      "model_module": "@jupyter-widgets/base",
      "model_module_version": "1.0.0",
      "model_name": "LayoutModel",
      "state": {}
     },
     "3a31581f83fc48ca8fede38f9da42b59": {
      "model_module": "@jupyter-widgets/base",
      "model_module_version": "1.0.0",
      "model_name": "LayoutModel",
      "state": {}
     },
     "3aabde3c6e6d47569f81168f5eeff709": {
      "model_module": "@jupyter-widgets/base",
      "model_module_version": "1.0.0",
      "model_name": "LayoutModel",
      "state": {}
     },
     "3c5081af757e48f08641f2fe7d9e53ce": {
      "model_module": "@jupyter-widgets/controls",
      "model_module_version": "1.0.0",
      "model_name": "VBoxModel",
      "state": {
       "children": [
        "IPY_MODEL_74d5cb86958c4894b371f571a709a589",
        "IPY_MODEL_0d9d0db19c51445581a1e399fb1aba53"
       ],
       "layout": "IPY_MODEL_8117c9c028d4469ea580d0dcdcfc156c"
      }
     },
     "3c90b884560643d98148a3894cb10c55": {
      "model_module": "@jupyter-widgets/controls",
      "model_module_version": "1.0.0",
      "model_name": "ToggleButtonsModel",
      "state": {
       "_options_labels": [
        "dipole gauss",
        "monopole gauss"
       ],
       "button_style": "",
       "description": "True source type",
       "icons": [],
       "index": 0,
       "layout": "IPY_MODEL_be2564339569406b8b808fb03f983a5e",
       "style": "IPY_MODEL_9abe75dd531b402196066505e09a7dd4",
       "tooltips": []
      }
     },
     "3cab2321fd434999924cb0b4a70bf320": {
      "model_module": "@jupyter-widgets/base",
      "model_module_version": "1.0.0",
      "model_name": "LayoutModel",
      "state": {}
     },
     "3cd19fa7a9d24591a59ffda8a0db37e1": {
      "model_module": "@jupyter-widgets/controls",
      "model_module_version": "1.0.0",
      "model_name": "VBoxModel",
      "state": {
       "children": [
        "IPY_MODEL_160ad3df0f6043beaecc5ec6ab0cd35c",
        "IPY_MODEL_f64fba3a5d734a86888bd727e9cd1908",
        "IPY_MODEL_abd0f49d6c394ab8b5473a8172d0087f"
       ],
       "layout": "IPY_MODEL_bdf39c6134094af487205d130be45209"
      }
     },
     "3d212821216141b086429207dc48150d": {
      "model_module": "@jupyter-widgets/controls",
      "model_module_version": "1.0.0",
      "model_name": "ToggleButtonsModel",
      "state": {
       "_options_labels": [
        "KCSD1D"
       ],
       "button_style": "",
       "description": "KCSD method",
       "icons": [],
       "index": 0,
       "layout": "IPY_MODEL_cb6ea2cace2a4ad3937cbc66e3376e4d",
       "style": "IPY_MODEL_6fc0e73076ff4a578342dbafca90aa76",
       "tooltips": []
      }
     },
     "3d5eb1ec29f249fd8df41e9d4675fd88": {
      "model_module": "@jupyter-widgets/base",
      "model_module_version": "1.0.0",
      "model_name": "LayoutModel",
      "state": {}
     },
     "3e5362f3c020456d9dc6fee35dc9c52a": {
      "model_module": "@jupyter-widgets/controls",
      "model_module_version": "1.0.0",
      "model_name": "DescriptionStyleModel",
      "state": {
       "description_width": ""
      }
     },
     "3f3298eac9c44ca38b0874553bbe64b4": {
      "model_module": "@jupyter-widgets/controls",
      "model_module_version": "1.0.0",
      "model_name": "FloatTextModel",
      "state": {
       "description": "ext_x:",
       "layout": "IPY_MODEL_b1dd48c47c904bbd9b7ccf1367cb84fc",
       "step": null,
       "style": "IPY_MODEL_77673409b5ad4231a8e53cbf539e263b"
      }
     },
     "4048a87a26f64854a73374e094bf7010": {
      "model_module": "@jupyter-widgets/base",
      "model_module_version": "1.0.0",
      "model_name": "LayoutModel",
      "state": {}
     },
     "415c8048189047549046ad607674ad44": {
      "model_module": "@jupyter-widgets/base",
      "model_module_version": "1.0.0",
      "model_name": "LayoutModel",
      "state": {}
     },
     "42a8856832c44cbd8b420c8136a7d60f": {
      "model_module": "@jupyter-widgets/base",
      "model_module_version": "1.0.0",
      "model_name": "LayoutModel",
      "state": {}
     },
     "4348bfb72c4f4d71a506eb078087e7da": {
      "model_module": "@jupyter-widgets/controls",
      "model_module_version": "1.0.0",
      "model_name": "FloatTextModel",
      "state": {
       "description": "gdx:",
       "layout": "IPY_MODEL_ccaa5e9d6fc845c9a5a082011022f793",
       "step": null,
       "style": "IPY_MODEL_e0028044bddc464f9df5cc25132870c7",
       "value": 0.01
      }
     },
     "44345270b4f64300a0992da193c78f65": {
      "model_module": "@jupyter-widgets/controls",
      "model_module_version": "1.0.0",
      "model_name": "DescriptionStyleModel",
      "state": {
       "description_width": ""
      }
     },
     "4521e18d2806424992d33d21afc30628": {
      "model_module": "@jupyter-widgets/controls",
      "model_module_version": "1.0.0",
      "model_name": "DescriptionStyleModel",
      "state": {
       "description_width": ""
      }
     },
     "45e6b90cfecf421083ad532b04eca4e3": {
      "model_module": "@jupyter-widgets/base",
      "model_module_version": "1.0.0",
      "model_name": "LayoutModel",
      "state": {}
     },
     "46c3c20f52e044699b0117e48576affd": {
      "model_module": "@jupyter-widgets/controls",
      "model_module_version": "1.0.0",
      "model_name": "FloatTextModel",
      "state": {
       "description": "xmax:",
       "layout": "IPY_MODEL_833832599fb840bc9984473355dcd696",
       "step": null,
       "style": "IPY_MODEL_278b75ea3ff4414b9da4da6b3141157d",
       "value": 1
      }
     },
     "4703c3d6286547878bbe0adb95385f82": {
      "model_module": "@jupyter-widgets/controls",
      "model_module_version": "1.0.0",
      "model_name": "FloatTextModel",
      "state": {
       "description": "gdx:",
       "layout": "IPY_MODEL_87c6847d57184710ba244e841528c31a",
       "step": null,
       "style": "IPY_MODEL_bf081d18686841f09d4bc7506cab14b1",
       "value": 0.01
      }
     },
     "476efeb8740b44f484a2ce24d3570dd7": {
      "model_module": "@jupyter-widgets/controls",
      "model_module_version": "1.0.0",
      "model_name": "DescriptionStyleModel",
      "state": {
       "description_width": ""
      }
     },
     "49163540ec294208b0ff9baa5e55cf31": {
      "model_module": "@jupyter-widgets/base",
      "model_module_version": "1.0.0",
      "model_name": "LayoutModel",
      "state": {}
     },
     "49b49c5c1b0944b89eb125857b7a27ee": {
      "model_module": "@jupyter-widgets/base",
      "model_module_version": "1.0.0",
      "model_name": "LayoutModel",
      "state": {}
     },
     "4a2b35fd6bc443208ed2ec8e2f699417": {
      "model_module": "@jupyter-widgets/controls",
      "model_module_version": "1.0.0",
      "model_name": "DescriptionStyleModel",
      "state": {
       "description_width": ""
      }
     },
     "4b918ed55f3242598706a19a19eac7a1": {
      "model_module": "@jupyter-widgets/controls",
      "model_module_version": "1.0.0",
      "model_name": "VBoxModel",
      "state": {
       "children": [
        "IPY_MODEL_acdade8bb1534e6bad9363358ad7de94",
        "IPY_MODEL_d953e5f9f0c2413c9ddaecb326bf98e1"
       ],
       "layout": "IPY_MODEL_ef235a59c07b4a93a35140527339ecec"
      }
     },
     "4bea6d2b7d9c4990b7c32d6a3781436b": {
      "model_module": "@jupyter-widgets/controls",
      "model_module_version": "1.0.0",
      "model_name": "FloatTextModel",
      "state": {
       "description": "R_init:",
       "layout": "IPY_MODEL_902e2cd256754a47a36b0b8dd2727222",
       "step": null,
       "style": "IPY_MODEL_303771aeb5c24d7bb7ecff2b5d6e2d53",
       "value": 0.27
      }
     },
     "4d55a71901b74c0cb372d44eff52af62": {
      "model_module": "@jupyter-widgets/base",
      "model_module_version": "1.0.0",
      "model_name": "LayoutModel",
      "state": {}
     },
     "4def0639b81d49bc887888a721193461": {
      "model_module": "@jupyter-widgets/controls",
      "model_module_version": "1.0.0",
      "model_name": "VBoxModel",
      "state": {
       "children": [
        "IPY_MODEL_7e0a0e1dfb9c40edacef5fcc1686f271",
        "IPY_MODEL_967ede19f8bd4790ac2a359a027b6100",
        "IPY_MODEL_e8134e06120e4819943b78ad223a2799"
       ],
       "layout": "IPY_MODEL_5a830be46129412c8d09bb57222c3758"
      }
     },
     "4dfcb7d15bc7419aa4c40530a40fa486": {
      "model_module": "@jupyter-widgets/controls",
      "model_module_version": "1.0.0",
      "model_name": "VBoxModel",
      "state": {
       "children": [
        "IPY_MODEL_e4f5c1499642470d8b46227e52e1ee8d",
        "IPY_MODEL_9977dbb9f52643b19719afd3a1dd8a27",
        "IPY_MODEL_537610b3da71462f82452b705528aae7"
       ],
       "layout": "IPY_MODEL_aa7ea3bca11d4730930fbec4736972b8"
      }
     },
     "4f7c21e8d37f4daabb29019cf3fc96d6": {
      "model_module": "@jupyter-widgets/controls",
      "model_module_version": "1.0.0",
      "model_name": "FloatTextModel",
      "state": {
       "description": "h:",
       "layout": "IPY_MODEL_15defdf633a3438898c2b114be041d2a",
       "step": null,
       "style": "IPY_MODEL_141734a7afe248b59d51df37cd2adfe7",
       "value": 1
      }
     },
     "4fe4255852204a42adb657be9164dc64": {
      "model_module": "@jupyter-widgets/base",
      "model_module_version": "1.0.0",
      "model_name": "LayoutModel",
      "state": {}
     },
     "4fede02ce4d943cb8829de32d5c7f73b": {
      "model_module": "@jupyter-widgets/controls",
      "model_module_version": "1.0.0",
      "model_name": "VBoxModel",
      "state": {
       "children": [
        "IPY_MODEL_e5ba1b59637942129ee40e9342925ee1",
        "IPY_MODEL_06226fed6350423cbf9c246422cc66ae",
        "IPY_MODEL_3f3298eac9c44ca38b0874553bbe64b4",
        "IPY_MODEL_5837e90042bc4497b6b38071e58a50d3"
       ],
       "layout": "IPY_MODEL_308a6e75c1fa4ec1b7b993add68890f2"
      }
     },
     "537610b3da71462f82452b705528aae7": {
      "model_module": "@jupyter-widgets/controls",
      "model_module_version": "1.0.0",
      "model_name": "FloatTextModel",
      "state": {
       "description": "ext_x:",
       "layout": "IPY_MODEL_a4cf585304944f939de851c152dc68f5",
       "step": null,
       "style": "IPY_MODEL_fdc8f3d4b4e647b5ba5202644720c7dd"
      }
     },
     "5415f8ba5ec64de8b82d9196e639f48b": {
      "model_module": "@jupyter-widgets/controls",
      "model_module_version": "1.0.0",
      "model_name": "DescriptionStyleModel",
      "state": {
       "description_width": ""
      }
     },
     "54cfef40999f4843872ed0442c8d1c98": {
      "model_module": "@jupyter-widgets/controls",
      "model_module_version": "1.0.0",
      "model_name": "VBoxModel",
      "state": {
       "children": [
        "IPY_MODEL_1536f3419aae4adb9d64756a08e3631c",
        "IPY_MODEL_b934e47eb9294f46bf55cbba6c60e21e",
        "IPY_MODEL_9b747c77c78c461b95eb1a931f26e42e"
       ],
       "layout": "IPY_MODEL_596fdaa4b3094f0c8f13798043e5328d"
      }
     },
     "583797dd9d74419aa5e44f26576aead3": {
      "model_module": "@jupyter-widgets/controls",
      "model_module_version": "1.0.0",
      "model_name": "DescriptionStyleModel",
      "state": {
       "description_width": ""
      }
     },
     "5837e90042bc4497b6b38071e58a50d3": {
      "model_module": "@jupyter-widgets/controls",
      "model_module_version": "1.0.0",
      "model_name": "FloatTextModel",
      "state": {
       "description": "gdx:",
       "layout": "IPY_MODEL_0f8b6079eede4ee0b617fea7573821c7",
       "step": null,
       "style": "IPY_MODEL_5d6354f1b20c44fea3c60d3919f14d07",
       "value": 0.01
      }
     },
     "58772699d83943adb84e81a09868297e": {
      "model_module": "@jupyter-widgets/controls",
      "model_module_version": "1.0.0",
      "model_name": "VBoxModel",
      "state": {
       "children": [
        "IPY_MODEL_5a4b705c6bf14db0bcdae9d6ae5ea8d5"
       ],
       "layout": "IPY_MODEL_362ea9a210b44a7f8784fe18e78b5bd9"
      }
     },
     "58df0b307f304704af93c1d2499c08cd": {
      "model_module": "@jupyter-widgets/base",
      "model_module_version": "1.0.0",
      "model_name": "LayoutModel",
      "state": {}
     },
     "596fdaa4b3094f0c8f13798043e5328d": {
      "model_module": "@jupyter-widgets/base",
      "model_module_version": "1.0.0",
      "model_name": "LayoutModel",
      "state": {}
     },
     "5a005376000c4965a2e9b66ccccdfdb2": {
      "model_module": "@jupyter-widgets/base",
      "model_module_version": "1.0.0",
      "model_name": "LayoutModel",
      "state": {}
     },
     "5a39546670e24bd2b74e4315455bdf8b": {
      "model_module": "@jupyter-widgets/controls",
      "model_module_version": "1.0.0",
      "model_name": "VBoxModel",
      "state": {
       "children": [
        "IPY_MODEL_7e0a0e1dfb9c40edacef5fcc1686f271"
       ],
       "layout": "IPY_MODEL_36efd19e8dce448b81e06f712873fe0a"
      }
     },
     "5a4b705c6bf14db0bcdae9d6ae5ea8d5": {
      "model_module": "@jupyter-widgets/controls",
      "model_module_version": "1.0.0",
      "model_name": "FloatTextModel",
      "state": {
       "description": "R_init:",
       "layout": "IPY_MODEL_30ebda6a10414c06a05673eeb3f1a76d",
       "step": null,
       "style": "IPY_MODEL_2bfcef9b6df543b8bab17cf020e9315f",
       "value": 0.27
      }
     },
     "5a830be46129412c8d09bb57222c3758": {
      "model_module": "@jupyter-widgets/base",
      "model_module_version": "1.0.0",
      "model_name": "LayoutModel",
      "state": {}
     },
     "5b771d6ffd8f451697dbbc5dc8a08026": {
      "model_module": "@jupyter-widgets/controls",
      "model_module_version": "1.0.0",
      "model_name": "ToggleButtonsStyleModel",
      "state": {
       "_model_module": "@jupyter-widgets/controls",
       "button_width": ""
      }
     },
     "5cc6fb6ff9a54db2b731b8ab163bf229": {
      "model_module": "@jupyter-widgets/controls",
      "model_module_version": "1.0.0",
      "model_name": "VBoxModel",
      "state": {
       "children": [
        "IPY_MODEL_74d5cb86958c4894b371f571a709a589"
       ],
       "layout": "IPY_MODEL_d674aa66510b4655b7c8b67c0306c023"
      }
     },
     "5cd7578775d14cf48ea796d167205423": {
      "model_module": "@jupyter-widgets/controls",
      "model_module_version": "1.0.0",
      "model_name": "FloatTextModel",
      "state": {
       "description": "R_init:",
       "layout": "IPY_MODEL_141484a366a744228d66ad99550e33f6",
       "step": null,
       "style": "IPY_MODEL_db2de8d4238e433fb96b75796af9e975",
       "value": 0.27
      }
     },
     "5d6354f1b20c44fea3c60d3919f14d07": {
      "model_module": "@jupyter-widgets/controls",
      "model_module_version": "1.0.0",
      "model_name": "DescriptionStyleModel",
      "state": {
       "description_width": ""
      }
     },
     "5ec3e852e9944acab75fc83225feef59": {
      "model_module": "@jupyter-widgets/controls",
      "model_module_version": "1.0.0",
      "model_name": "VBoxModel",
      "state": {
       "children": [
        "IPY_MODEL_5cd7578775d14cf48ea796d167205423",
        "IPY_MODEL_61ff127a22194afabc83f3f24b43d75a"
       ],
       "layout": "IPY_MODEL_0a8b4b9905c946e3aa9cfccec03594b6"
      }
     },
     "6093d1a67f2245bba30a78465978c27a": {
      "model_module": "@jupyter-widgets/base",
      "model_module_version": "1.0.0",
      "model_name": "LayoutModel",
      "state": {}
     },
     "61ff127a22194afabc83f3f24b43d75a": {
      "model_module": "@jupyter-widgets/controls",
      "model_module_version": "1.0.0",
      "model_name": "FloatTextModel",
      "state": {
       "description": "n_src_init:",
       "layout": "IPY_MODEL_d52fe9cc2dd6421b8e9fa20885418ec0",
       "step": null,
       "style": "IPY_MODEL_7cfe822f150e4fea939828019deeb10a",
       "value": 300
      }
     },
     "6403a920991e417c946ad44fdcf15144": {
      "model_module": "@jupyter-widgets/base",
      "model_module_version": "1.0.0",
      "model_name": "LayoutModel",
      "state": {}
     },
     "651ec8e455a5437d9d4a9b18560fe852": {
      "model_module": "@jupyter-widgets/base",
      "model_module_version": "1.0.0",
      "model_name": "LayoutModel",
      "state": {}
     },
     "6574e68941aa4e7898d85a3842a227bb": {
      "model_module": "@jupyter-widgets/controls",
      "model_module_version": "1.0.0",
      "model_name": "VBoxModel",
      "state": {
       "children": [
        "IPY_MODEL_b8ada0aeb41d4df5b20666d4dcc37752"
       ],
       "layout": "IPY_MODEL_95036d4b7d5d4d398525bb7387a14f6d"
      }
     },
     "658b2509aff34e5c925f17506d1ee132": {
      "model_module": "@jupyter-widgets/base",
      "model_module_version": "1.0.0",
      "model_name": "LayoutModel",
      "state": {}
     },
     "679f06e46b7a489a871f46ee18dd2c08": {
      "model_module": "@jupyter-widgets/controls",
      "model_module_version": "1.0.0",
      "model_name": "DescriptionStyleModel",
      "state": {
       "description_width": ""
      }
     },
     "6af50554093042a587f2264196c283ae": {
      "model_module": "@jupyter-widgets/controls",
      "model_module_version": "1.0.0",
      "model_name": "FloatTextModel",
      "state": {
       "description": "gdx:",
       "layout": "IPY_MODEL_cd757110c5344dcbaec4b17c8080d062",
       "step": null,
       "style": "IPY_MODEL_fecfea7f275e47f490c30fa755667811",
       "value": 0.01
      }
     },
     "6b1c4593826541768a83a80e5bc90201": {
      "model_module": "@jupyter-widgets/base",
      "model_module_version": "1.0.0",
      "model_name": "LayoutModel",
      "state": {}
     },
     "6bf13e25bba14654a28f0a2d08655b02": {
      "model_module": "@jupyter-widgets/controls",
      "model_module_version": "1.0.0",
      "model_name": "VBoxModel",
      "state": {
       "children": [
        "IPY_MODEL_828f70174a8c409185ad42fe838499e4"
       ],
       "layout": "IPY_MODEL_d2409f7bc1a9457cb08646df002af0cc"
      }
     },
     "6cfd6898994d4a3da30bc9dc613bf508": {
      "model_module": "@jupyter-widgets/controls",
      "model_module_version": "1.0.0",
      "model_name": "ToggleButtonsModel",
      "state": {
       "_options_labels": [
        "1D",
        "2D",
        "3D"
       ],
       "button_style": "",
       "description": "Dimensions of the setup:",
       "icons": [],
       "index": 0,
       "layout": "IPY_MODEL_6093d1a67f2245bba30a78465978c27a",
       "style": "IPY_MODEL_ed8d4129c155425e81730df927ce63f8",
       "tooltips": [
        "Laminar probes",
        "MEA like flat electrodes",
        "Utah array or SEEG"
       ]
      }
     },
     "6f1284289cf244b5a32758a25dad5456": {
      "model_module": "@jupyter-widgets/controls",
      "model_module_version": "1.0.0",
      "model_name": "VBoxModel",
      "state": {
       "children": [
        "IPY_MODEL_1ae4ca6f5610477082533212328641f5"
       ],
       "layout": "IPY_MODEL_96bc16d253ff4785b219a031575736e7"
      }
     },
     "6fc0e73076ff4a578342dbafca90aa76": {
      "model_module": "@jupyter-widgets/controls",
      "model_module_version": "1.0.0",
      "model_name": "ToggleButtonsStyleModel",
      "state": {
       "_model_module": "@jupyter-widgets/controls",
       "button_width": ""
      }
     },
     "700a5ffe662e41d9b451c1687b5ef3a8": {
      "model_module": "@jupyter-widgets/base",
      "model_module_version": "1.0.0",
      "model_name": "LayoutModel",
      "state": {}
     },
     "706759c745014a3f8c256db8a4538ed8": {
      "model_module": "@jupyter-widgets/base",
      "model_module_version": "1.0.0",
      "model_name": "LayoutModel",
      "state": {}
     },
     "7096f945e7a64971a5f1c10cc2897b14": {
      "model_module": "@jupyter-widgets/base",
      "model_module_version": "1.0.0",
      "model_name": "LayoutModel",
      "state": {}
     },
     "710c89a159ae480ebe6a9fb7edb0f88d": {
      "model_module": "@jupyter-widgets/controls",
      "model_module_version": "1.0.0",
      "model_name": "VBoxModel",
      "state": {
       "children": [
        "IPY_MODEL_4bea6d2b7d9c4990b7c32d6a3781436b"
       ],
       "layout": "IPY_MODEL_f6affd7f8b1f4d44806e0ab92018adcc"
      }
     },
     "7200a22aa2374f719fb02bd746a0acc8": {
      "model_module": "@jupyter-widgets/controls",
      "model_module_version": "1.0.0",
      "model_name": "VBoxModel",
      "state": {
       "children": [
        "IPY_MODEL_4f7c21e8d37f4daabb29019cf3fc96d6"
       ],
       "layout": "IPY_MODEL_8d1d66f35031463aa5faf8e522e8a13b"
      }
     },
     "720f686fb96a42a4bf3d86fab06250b7": {
      "model_module": "@jupyter-widgets/controls",
      "model_module_version": "1.0.0",
      "model_name": "VBoxModel",
      "state": {
       "children": [
        "IPY_MODEL_d491d33c4cd8409bbc76d5296ae1d294",
        "IPY_MODEL_46c3c20f52e044699b0117e48576affd",
        "IPY_MODEL_8198c5b1d17b42fb9a45dd92b4cb4813",
        "IPY_MODEL_6af50554093042a587f2264196c283ae"
       ],
       "layout": "IPY_MODEL_c893af70da5746a8aa91073804b405e5"
      }
     },
     "727d9f67760b4c2d955b3f81486ad33e": {
      "model_module": "@jupyter-widgets/controls",
      "model_module_version": "1.0.0",
      "model_name": "VBoxModel",
      "state": {
       "children": [
        "IPY_MODEL_86bda8813a1f431fbb7c44dca9179141"
       ],
       "layout": "IPY_MODEL_d7d38c374b364d2880afeea6b9ff267a"
      }
     },
     "734728fd8fcd46cc9bc93635a1cbde8f": {
      "model_module": "@jupyter-widgets/base",
      "model_module_version": "1.0.0",
      "model_name": "LayoutModel",
      "state": {}
     },
     "73fbfd18aef442ab9549252d132d11c8": {
      "model_module": "@jupyter-widgets/base",
      "model_module_version": "1.0.0",
      "model_name": "LayoutModel",
      "state": {}
     },
     "74d5cb86958c4894b371f571a709a589": {
      "model_module": "@jupyter-widgets/controls",
      "model_module_version": "1.0.0",
      "model_name": "FloatTextModel",
      "state": {
       "description": "xmin:",
       "layout": "IPY_MODEL_29ece9ebb98b4ba2a8c129e76e5123b9",
       "step": null,
       "style": "IPY_MODEL_ab8772ad54b24d85a3c1f363e358fde2"
      }
     },
     "7523448d77a0455994995076a029a09a": {
      "model_module": "@jupyter-widgets/controls",
      "model_module_version": "1.0.0",
      "model_name": "DescriptionStyleModel",
      "state": {
       "description_width": ""
      }
     },
     "7682679d6c72469aaec2de56feb343d4": {
      "model_module": "@jupyter-widgets/controls",
      "model_module_version": "1.0.0",
      "model_name": "VBoxModel",
      "state": {
       "children": [
        "IPY_MODEL_7e0a0e1dfb9c40edacef5fcc1686f271",
        "IPY_MODEL_967ede19f8bd4790ac2a359a027b6100"
       ],
       "layout": "IPY_MODEL_658b2509aff34e5c925f17506d1ee132"
      }
     },
     "77673409b5ad4231a8e53cbf539e263b": {
      "model_module": "@jupyter-widgets/controls",
      "model_module_version": "1.0.0",
      "model_name": "DescriptionStyleModel",
      "state": {
       "description_width": ""
      }
     },
     "78aee394762945959e13fd98846d5837": {
      "model_module": "@jupyter-widgets/base",
      "model_module_version": "1.0.0",
      "model_name": "LayoutModel",
      "state": {}
     },
     "79f6ed59acb64a66a867c434b0dcd06e": {
      "model_module": "@jupyter-widgets/controls",
      "model_module_version": "1.0.0",
      "model_name": "DescriptionStyleModel",
      "state": {
       "description_width": ""
      }
     },
     "7b38a4971c894f86ac52880a4a88da3b": {
      "model_module": "@jupyter-widgets/controls",
      "model_module_version": "1.0.0",
      "model_name": "VBoxModel",
      "state": {
       "children": [
        "IPY_MODEL_5cd7578775d14cf48ea796d167205423"
       ],
       "layout": "IPY_MODEL_3a31581f83fc48ca8fede38f9da42b59"
      }
     },
     "7c1899bcba56463199e6b5d743b42822": {
      "model_module": "@jupyter-widgets/controls",
      "model_module_version": "1.0.0",
      "model_name": "DescriptionStyleModel",
      "state": {
       "description_width": ""
      }
     },
     "7cfe822f150e4fea939828019deeb10a": {
      "model_module": "@jupyter-widgets/controls",
      "model_module_version": "1.0.0",
      "model_name": "DescriptionStyleModel",
      "state": {
       "description_width": ""
      }
     },
     "7d79f92285514a7c98818b5a36de77d2": {
      "model_module": "@jupyter-widgets/base",
      "model_module_version": "1.0.0",
      "model_name": "LayoutModel",
      "state": {}
     },
     "7e0a0e1dfb9c40edacef5fcc1686f271": {
      "model_module": "@jupyter-widgets/controls",
      "model_module_version": "1.0.0",
      "model_name": "FloatTextModel",
      "state": {
       "description": "xmin:",
       "layout": "IPY_MODEL_0ad9a4906ddd4ee3ab6f7f243ebc8c5c",
       "step": null,
       "style": "IPY_MODEL_d10ca9a2c0d64c5ab389f973d5580234"
      }
     },
     "7e4b2be0ff2f4d80a20670c0b9795ac6": {
      "model_module": "@jupyter-widgets/base",
      "model_module_version": "1.0.0",
      "model_name": "LayoutModel",
      "state": {}
     },
     "7f56172da13f4748817a892c05f1cbd9": {
      "model_module": "@jupyter-widgets/base",
      "model_module_version": "1.0.0",
      "model_name": "LayoutModel",
      "state": {}
     },
     "8117c9c028d4469ea580d0dcdcfc156c": {
      "model_module": "@jupyter-widgets/base",
      "model_module_version": "1.0.0",
      "model_name": "LayoutModel",
      "state": {}
     },
     "8198c5b1d17b42fb9a45dd92b4cb4813": {
      "model_module": "@jupyter-widgets/controls",
      "model_module_version": "1.0.0",
      "model_name": "FloatTextModel",
      "state": {
       "description": "ext_x:",
       "layout": "IPY_MODEL_c45bafb7e6214064b51503847dc48c2f",
       "step": null,
       "style": "IPY_MODEL_8a11eac4b8184c31a779b77c827fe204"
      }
     },
     "828f70174a8c409185ad42fe838499e4": {
      "model_module": "@jupyter-widgets/controls",
      "model_module_version": "1.0.0",
      "model_name": "FloatTextModel",
      "state": {
       "description": "h:",
       "layout": "IPY_MODEL_45e6b90cfecf421083ad532b04eca4e3",
       "step": null,
       "style": "IPY_MODEL_33d852e6e0684984a53ef91a53b3308b",
       "value": 1
      }
     },
     "833832599fb840bc9984473355dcd696": {
      "model_module": "@jupyter-widgets/base",
      "model_module_version": "1.0.0",
      "model_name": "LayoutModel",
      "state": {}
     },
     "8367fbf6213947478c40f3cee4a2eb41": {
      "model_module": "@jupyter-widgets/controls",
      "model_module_version": "1.0.0",
      "model_name": "ToggleButtonsStyleModel",
      "state": {
       "_model_module": "@jupyter-widgets/controls",
       "button_width": ""
      }
     },
     "85134d8eab1642faa8747213f0f59be3": {
      "model_module": "@jupyter-widgets/base",
      "model_module_version": "1.0.0",
      "model_name": "LayoutModel",
      "state": {}
     },
     "85ab5d18f0574655884ca897f400c85c": {
      "model_module": "@jupyter-widgets/base",
      "model_module_version": "1.0.0",
      "model_name": "LayoutModel",
      "state": {}
     },
     "86b33ef7e30f4677963ddb9ecc3e1d8e": {
      "model_module": "@jupyter-widgets/controls",
      "model_module_version": "1.0.0",
      "model_name": "DescriptionStyleModel",
      "state": {
       "description_width": ""
      }
     },
     "86bda8813a1f431fbb7c44dca9179141": {
      "model_module": "@jupyter-widgets/controls",
      "model_module_version": "1.0.0",
      "model_name": "FloatTextModel",
      "state": {
       "description": "xmin:",
       "layout": "IPY_MODEL_0d808c698867453584de32780a750b93",
       "step": null,
       "style": "IPY_MODEL_c4d38390c5a142388fc981ba6d079c47"
      }
     },
     "86e2861d879b4794be9b77c93b465348": {
      "model_module": "@jupyter-widgets/base",
      "model_module_version": "1.0.0",
      "model_name": "LayoutModel",
      "state": {}
     },
     "8732d1262ace46388cf2b7a41bf3844c": {
      "model_module": "@jupyter-widgets/base",
      "model_module_version": "1.0.0",
      "model_name": "LayoutModel",
      "state": {}
     },
     "87468cef092e46bcbeec5d4f75cb0bca": {
      "model_module": "@jupyter-widgets/controls",
      "model_module_version": "1.0.0",
      "model_name": "DescriptionStyleModel",
      "state": {
       "description_width": ""
      }
     },
     "87c6847d57184710ba244e841528c31a": {
      "model_module": "@jupyter-widgets/base",
      "model_module_version": "1.0.0",
      "model_name": "LayoutModel",
      "state": {}
     },
     "87d3fdf4a5c84a309d37e94d7324848c": {
      "model_module": "@jupyter-widgets/controls",
      "model_module_version": "1.0.0",
      "model_name": "VBoxModel",
      "state": {
       "children": [
        "IPY_MODEL_160ad3df0f6043beaecc5ec6ab0cd35c"
       ],
       "layout": "IPY_MODEL_2a99258f64e34bb6a1d3bbfec649654b"
      }
     },
     "887237dc76ca4323950b486ff5c9ebda": {
      "model_module": "@jupyter-widgets/controls",
      "model_module_version": "1.0.0",
      "model_name": "DescriptionStyleModel",
      "state": {
       "description_width": ""
      }
     },
     "88b45c0351894d41bfb2fb9d1b475d19": {
      "model_module": "@jupyter-widgets/base",
      "model_module_version": "1.0.0",
      "model_name": "LayoutModel",
      "state": {}
     },
     "89587410725449498b312de67d7e38a7": {
      "model_module": "@jupyter-widgets/base",
      "model_module_version": "1.0.0",
      "model_name": "LayoutModel",
      "state": {}
     },
     "8990c4a3e5c74e72a64797cbccd5a61a": {
      "model_module": "@jupyter-widgets/controls",
      "model_module_version": "1.0.0",
      "model_name": "VBoxModel",
      "state": {
       "children": [
        "IPY_MODEL_e4f5c1499642470d8b46227e52e1ee8d",
        "IPY_MODEL_9977dbb9f52643b19719afd3a1dd8a27"
       ],
       "layout": "IPY_MODEL_facbdfd36ca0466ba4cda0f897626928"
      }
     },
     "89c249c7361d478da0b4561985b58db5": {
      "model_module": "@jupyter-widgets/controls",
      "model_module_version": "1.0.0",
      "model_name": "DescriptionStyleModel",
      "state": {
       "description_width": ""
      }
     },
     "8a11eac4b8184c31a779b77c827fe204": {
      "model_module": "@jupyter-widgets/controls",
      "model_module_version": "1.0.0",
      "model_name": "DescriptionStyleModel",
      "state": {
       "description_width": ""
      }
     },
     "8a67ce5370ee495485139d5a1f8d4cef": {
      "model_module": "@jupyter-widgets/controls",
      "model_module_version": "1.0.0",
      "model_name": "FloatTextModel",
      "state": {
       "description": "n_src_init:",
       "layout": "IPY_MODEL_651ec8e455a5437d9d4a9b18560fe852",
       "step": null,
       "style": "IPY_MODEL_bf5c0012cffc4b409773a8cbf3d6751e",
       "value": 300
      }
     },
     "8c4d5121b7054055b59b7b26382d965c": {
      "model_module": "@jupyter-widgets/controls",
      "model_module_version": "1.0.0",
      "model_name": "DescriptionStyleModel",
      "state": {
       "description_width": ""
      }
     },
     "8d1d66f35031463aa5faf8e522e8a13b": {
      "model_module": "@jupyter-widgets/base",
      "model_module_version": "1.0.0",
      "model_name": "LayoutModel",
      "state": {}
     },
     "8ead014fc16b4c17ba0b3648b3233bb6": {
      "model_module": "@jupyter-widgets/controls",
      "model_module_version": "1.0.0",
      "model_name": "VBoxModel",
      "state": {
       "children": [
        "IPY_MODEL_d491d33c4cd8409bbc76d5296ae1d294",
        "IPY_MODEL_46c3c20f52e044699b0117e48576affd"
       ],
       "layout": "IPY_MODEL_5a005376000c4965a2e9b66ccccdfdb2"
      }
     },
     "8f75bc4999cd42389d7269c6615c4103": {
      "model_module": "@jupyter-widgets/controls",
      "model_module_version": "1.0.0",
      "model_name": "DescriptionStyleModel",
      "state": {
       "description_width": ""
      }
     },
     "902e2cd256754a47a36b0b8dd2727222": {
      "model_module": "@jupyter-widgets/base",
      "model_module_version": "1.0.0",
      "model_name": "LayoutModel",
      "state": {}
     },
     "926a20d968334d2fa2d670e2f19ff218": {
      "model_module": "@jupyter-widgets/controls",
      "model_module_version": "1.0.0",
      "model_name": "VBoxModel",
      "state": {
       "children": [
        "IPY_MODEL_a5861a56a8f543f18f4a699ab08e21f9",
        "IPY_MODEL_b964bcff730a4d3fa547de3e453a9381",
        "IPY_MODEL_163aa34cb48c4065a9c654f54eb71d9b"
       ],
       "layout": "IPY_MODEL_9ce7d82c180640be96fbcaa7eeb29108"
      }
     },
     "930df1d82e404b7e8b230756fbaafa76": {
      "model_module": "@jupyter-widgets/controls",
      "model_module_version": "1.0.0",
      "model_name": "VBoxModel",
      "state": {
       "children": [
        "IPY_MODEL_e4f5c1499642470d8b46227e52e1ee8d"
       ],
       "layout": "IPY_MODEL_2b59c79f91884258a72278a5f79ba314"
      }
     },
     "93e5d5fa87814df78309761e4fd589f2": {
      "model_module": "@jupyter-widgets/controls",
      "model_module_version": "1.0.0",
      "model_name": "DescriptionStyleModel",
      "state": {
       "description_width": ""
      }
     },
     "945449488e9e42f28dde8907e0d7d00d": {
      "model_module": "@jupyter-widgets/controls",
      "model_module_version": "1.0.0",
      "model_name": "FloatTextModel",
      "state": {
       "description": "gdx:",
       "layout": "IPY_MODEL_78aee394762945959e13fd98846d5837",
       "step": null,
       "style": "IPY_MODEL_94ce11ab162b4307aead0bb4d958573d",
       "value": 0.01
      }
     },
     "94adf757419c49f593a65f39475a9273": {
      "model_module": "@jupyter-widgets/controls",
      "model_module_version": "1.0.0",
      "model_name": "VBoxModel",
      "state": {
       "children": [
        "IPY_MODEL_acdade8bb1534e6bad9363358ad7de94"
       ],
       "layout": "IPY_MODEL_28e1304f1ccd4871a3f83a80bcc36e7b"
      }
     },
     "94ce11ab162b4307aead0bb4d958573d": {
      "model_module": "@jupyter-widgets/controls",
      "model_module_version": "1.0.0",
      "model_name": "DescriptionStyleModel",
      "state": {
       "description_width": ""
      }
     },
     "95036d4b7d5d4d398525bb7387a14f6d": {
      "model_module": "@jupyter-widgets/base",
      "model_module_version": "1.0.0",
      "model_name": "LayoutModel",
      "state": {}
     },
     "95abfb58d05b477e8e5da08f5b1d26de": {
      "model_module": "@jupyter-widgets/controls",
      "model_module_version": "1.0.0",
      "model_name": "ToggleButtonsStyleModel",
      "state": {
       "_model_module": "@jupyter-widgets/controls",
       "button_width": ""
      }
     },
     "9658bb56068644148c77e7975a3bd386": {
      "model_module": "@jupyter-widgets/controls",
      "model_module_version": "1.0.0",
      "model_name": "VBoxModel",
      "state": {
       "children": [
        "IPY_MODEL_e5ba1b59637942129ee40e9342925ee1"
       ],
       "layout": "IPY_MODEL_39c423222e5f4e2fb3c5794656eada6c"
      }
     },
     "967ede19f8bd4790ac2a359a027b6100": {
      "model_module": "@jupyter-widgets/controls",
      "model_module_version": "1.0.0",
      "model_name": "FloatTextModel",
      "state": {
       "description": "xmax:",
       "layout": "IPY_MODEL_58df0b307f304704af93c1d2499c08cd",
       "step": null,
       "style": "IPY_MODEL_476efeb8740b44f484a2ce24d3570dd7",
       "value": 1
      }
     },
     "96bc16d253ff4785b219a031575736e7": {
      "model_module": "@jupyter-widgets/base",
      "model_module_version": "1.0.0",
      "model_name": "LayoutModel",
      "state": {}
     },
     "96f2e482d27f49ed8269808de5aabd5c": {
      "model_module": "@jupyter-widgets/controls",
      "model_module_version": "1.0.0",
      "model_name": "VBoxModel",
      "state": {
       "children": [
        "IPY_MODEL_a5861a56a8f543f18f4a699ab08e21f9",
        "IPY_MODEL_b964bcff730a4d3fa547de3e453a9381",
        "IPY_MODEL_163aa34cb48c4065a9c654f54eb71d9b",
        "IPY_MODEL_4703c3d6286547878bbe0adb95385f82"
       ],
       "layout": "IPY_MODEL_7096f945e7a64971a5f1c10cc2897b14"
      }
     },
     "98973ab6326143c78cb9591b5b4fcb99": {
      "model_module": "@jupyter-widgets/controls",
      "model_module_version": "1.0.0",
      "model_name": "VBoxModel",
      "state": {
       "children": [
        "IPY_MODEL_5a4b705c6bf14db0bcdae9d6ae5ea8d5",
        "IPY_MODEL_8a67ce5370ee495485139d5a1f8d4cef",
        "IPY_MODEL_d8d7d846065b4416aa3d970c140b202a"
       ],
       "layout": "IPY_MODEL_c722c0dde4aa4d21877c26beaa0a1852"
      }
     },
     "98992bc5689f4a2991e8b23f2f277144": {
      "model_module": "@jupyter-widgets/base",
      "model_module_version": "1.0.0",
      "model_name": "LayoutModel",
      "state": {}
     },
     "99301ba5f9ef4bc096a883ddfb03fadb": {
      "model_module": "@jupyter-widgets/controls",
      "model_module_version": "1.0.0",
      "model_name": "DescriptionStyleModel",
      "state": {
       "description_width": ""
      }
     },
     "99537fd5472741e99b25eaeb9d5718e9": {
      "model_module": "@jupyter-widgets/base",
      "model_module_version": "1.0.0",
      "model_name": "LayoutModel",
      "state": {}
     },
     "9977dbb9f52643b19719afd3a1dd8a27": {
      "model_module": "@jupyter-widgets/controls",
      "model_module_version": "1.0.0",
      "model_name": "FloatTextModel",
      "state": {
       "description": "xmax:",
       "layout": "IPY_MODEL_ca7554e07205446ab11fe9b961f132d6",
       "step": null,
       "style": "IPY_MODEL_120a3f6518db4362929755447bc3c0dc",
       "value": 1
      }
     },
     "9abe75dd531b402196066505e09a7dd4": {
      "model_module": "@jupyter-widgets/controls",
      "model_module_version": "1.0.0",
      "model_name": "ToggleButtonsStyleModel",
      "state": {
       "_model_module": "@jupyter-widgets/controls",
       "button_width": ""
      }
     },
     "9b747c77c78c461b95eb1a931f26e42e": {
      "model_module": "@jupyter-widgets/controls",
      "model_module_version": "1.0.0",
      "model_name": "FloatTextModel",
      "state": {
       "description": "lambd:",
       "layout": "IPY_MODEL_dba369c746ca4be6941116c64a03eb0f",
       "step": null,
       "style": "IPY_MODEL_edd1bf67252846e795a6922df4eed7c4"
      }
     },
     "9c4c1025510e446eb62304143e57fcce": {
      "model_module": "@jupyter-widgets/base",
      "model_module_version": "1.0.0",
      "model_name": "LayoutModel",
      "state": {}
     },
     "9ce7d82c180640be96fbcaa7eeb29108": {
      "model_module": "@jupyter-widgets/base",
      "model_module_version": "1.0.0",
      "model_name": "LayoutModel",
      "state": {}
     },
     "9d60f1a46c5a473a8151d7cb6864a614": {
      "model_module": "@jupyter-widgets/controls",
      "model_module_version": "1.0.0",
      "model_name": "VBoxModel",
      "state": {
       "children": [
        "IPY_MODEL_c9555c501c174db5bf8df42d83892ecc",
        "IPY_MODEL_fc6f8b4e0d994ac285956398a2822847",
        "IPY_MODEL_1e64614e75e346de8310f00ede484e43"
       ],
       "layout": "IPY_MODEL_fb5a9713a3404b67ab1228c0bb4415f9"
      }
     },
     "a0ca5c9c078047e8b048dea9c4beab94": {
      "model_module": "@jupyter-widgets/controls",
      "model_module_version": "1.0.0",
      "model_name": "ToggleButtonsModel",
      "state": {
       "_options_labels": [
        "1D",
        "2D",
        "3D"
       ],
       "button_style": "",
       "description": "Dimensions of the setup:",
       "icons": [],
       "index": 0,
       "layout": "IPY_MODEL_f71616ef76f6411ebc27835e4d3ceac2",
       "style": "IPY_MODEL_ef83340dbd504a859be6b219228f7702",
       "tooltips": [
        "Laminar probes",
        "MEA like flat electrodes",
        "Utah array or SEEG"
       ]
      }
     },
     "a1a8ebc688bd4afba15f68924baa9836": {
      "model_module": "@jupyter-widgets/base",
      "model_module_version": "1.0.0",
      "model_name": "LayoutModel",
      "state": {}
     },
     "a2a8babfe8454e5e8023c6df43592693": {
      "model_module": "@jupyter-widgets/controls",
      "model_module_version": "1.0.0",
      "model_name": "ToggleButtonsStyleModel",
      "state": {
       "_model_module": "@jupyter-widgets/controls",
       "button_width": ""
      }
     },
     "a34580d222b449629942e5f21ca0b818": {
      "model_module": "@jupyter-widgets/controls",
      "model_module_version": "1.0.0",
      "model_name": "ToggleButtonsStyleModel",
      "state": {
       "_model_module": "@jupyter-widgets/controls",
       "button_width": ""
      }
     },
     "a35f52a22ab34c3798fa239ca9fb43f4": {
      "model_module": "@jupyter-widgets/controls",
      "model_module_version": "1.0.0",
      "model_name": "FloatTextModel",
      "state": {
       "description": "lambd:",
       "layout": "IPY_MODEL_3aabde3c6e6d47569f81168f5eeff709",
       "step": null,
       "style": "IPY_MODEL_93e5d5fa87814df78309761e4fd589f2"
      }
     },
     "a4cf585304944f939de851c152dc68f5": {
      "model_module": "@jupyter-widgets/base",
      "model_module_version": "1.0.0",
      "model_name": "LayoutModel",
      "state": {}
     },
     "a5861a56a8f543f18f4a699ab08e21f9": {
      "model_module": "@jupyter-widgets/controls",
      "model_module_version": "1.0.0",
      "model_name": "FloatTextModel",
      "state": {
       "description": "xmin:",
       "layout": "IPY_MODEL_176b125f754949f7acf01bf3dc9c4e44",
       "step": null,
       "style": "IPY_MODEL_f1d63ff8bc92478386b3a35cb5090824"
      }
     },
     "aa7ea3bca11d4730930fbec4736972b8": {
      "model_module": "@jupyter-widgets/base",
      "model_module_version": "1.0.0",
      "model_name": "LayoutModel",
      "state": {}
     },
     "ab8772ad54b24d85a3c1f363e358fde2": {
      "model_module": "@jupyter-widgets/controls",
      "model_module_version": "1.0.0",
      "model_name": "DescriptionStyleModel",
      "state": {
       "description_width": ""
      }
     },
     "abd0f49d6c394ab8b5473a8172d0087f": {
      "model_module": "@jupyter-widgets/controls",
      "model_module_version": "1.0.0",
      "model_name": "FloatTextModel",
      "state": {
       "description": "lambd:",
       "layout": "IPY_MODEL_4d55a71901b74c0cb372d44eff52af62",
       "step": null,
       "style": "IPY_MODEL_c000c25727db41acbbb7ea27a3ab70f6"
      }
     },
     "ac142365b24640d488b09598ece0f04c": {
      "model_module": "@jupyter-widgets/base",
      "model_module_version": "1.0.0",
      "model_name": "LayoutModel",
      "state": {}
     },
     "acdade8bb1534e6bad9363358ad7de94": {
      "model_module": "@jupyter-widgets/controls",
      "model_module_version": "1.0.0",
      "model_name": "FloatTextModel",
      "state": {
       "description": "R_init:",
       "layout": "IPY_MODEL_7f56172da13f4748817a892c05f1cbd9",
       "step": null,
       "style": "IPY_MODEL_dee12e408cf7468ca307087b609314b8",
       "value": 0.27
      }
     },
     "af0006f6a0a847df8eaca849da85cf76": {
      "model_module": "@jupyter-widgets/base",
      "model_module_version": "1.0.0",
      "model_name": "LayoutModel",
      "state": {}
     },
     "b1dd48c47c904bbd9b7ccf1367cb84fc": {
      "model_module": "@jupyter-widgets/base",
      "model_module_version": "1.0.0",
      "model_name": "LayoutModel",
      "state": {}
     },
     "b20ea8c927b04ce18fbf05f9b99fe2b1": {
      "model_module": "@jupyter-widgets/controls",
      "model_module_version": "1.0.0",
      "model_name": "DescriptionStyleModel",
      "state": {
       "description_width": ""
      }
     },
     "b279957f43ea4dd48a7dda796e6aaa9d": {
      "model_module": "@jupyter-widgets/controls",
      "model_module_version": "1.0.0",
      "model_name": "FloatTextModel",
      "state": {
       "description": "n_src_init:",
       "layout": "IPY_MODEL_e4f46092c93c4c34ba87f4eddde6bd21",
       "step": null,
       "style": "IPY_MODEL_79f6ed59acb64a66a867c434b0dcd06e",
       "value": 300
      }
     },
     "b2c8bd668ef643d68bd337e2e09fa447": {
      "model_module": "@jupyter-widgets/controls",
      "model_module_version": "1.0.0",
      "model_name": "FloatTextModel",
      "state": {
       "description": "ext_x:",
       "layout": "IPY_MODEL_30d13e202d2f459a92776d0bb3818460",
       "step": null,
       "style": "IPY_MODEL_368ff8af8f564b2c98f4ca56e8759e21"
      }
     },
     "b351d325c5c5439bb0383d693bb5e4a3": {
      "model_module": "@jupyter-widgets/controls",
      "model_module_version": "1.0.0",
      "model_name": "VBoxModel",
      "state": {
       "children": [
        "IPY_MODEL_ffedca2a1ced41f79c6eca8fe98c3ade"
       ],
       "layout": "IPY_MODEL_c4b64239123f421ab81c6dceb3eef16c"
      }
     },
     "b52a045f5aab42ab93405dd2a53f441a": {
      "model_module": "@jupyter-widgets/controls",
      "model_module_version": "1.0.0",
      "model_name": "ToggleButtonsModel",
      "state": {
       "_options_labels": [
        "1D",
        "2D",
        "3D"
       ],
       "button_style": "",
       "description": "Dimensions of the setup:",
       "icons": [],
       "index": 0,
       "layout": "IPY_MODEL_49b49c5c1b0944b89eb125857b7a27ee",
       "style": "IPY_MODEL_a34580d222b449629942e5f21ca0b818",
       "tooltips": [
        "Laminar probes",
        "MEA like flat electrodes",
        "Utah array or SEEG"
       ]
      }
     },
     "b6c3947c0ea94e5ca6fa0f69324e9742": {
      "model_module": "@jupyter-widgets/controls",
      "model_module_version": "1.0.0",
      "model_name": "DescriptionStyleModel",
      "state": {
       "description_width": ""
      }
     },
     "b7a99a2e07784d9cba486ce168e456ce": {
      "model_module": "@jupyter-widgets/base",
      "model_module_version": "1.0.0",
      "model_name": "LayoutModel",
      "state": {}
     },
     "b8ada0aeb41d4df5b20666d4dcc37752": {
      "model_module": "@jupyter-widgets/controls",
      "model_module_version": "1.0.0",
      "model_name": "FloatTextModel",
      "state": {
       "description": "h:",
       "layout": "IPY_MODEL_af0006f6a0a847df8eaca849da85cf76",
       "step": null,
       "style": "IPY_MODEL_196fe610bbd64352aba87dd0d31e6874",
       "value": 1
      }
     },
     "b934e47eb9294f46bf55cbba6c60e21e": {
      "model_module": "@jupyter-widgets/controls",
      "model_module_version": "1.0.0",
      "model_name": "FloatTextModel",
      "state": {
       "description": "n_src_init:",
       "layout": "IPY_MODEL_99537fd5472741e99b25eaeb9d5718e9",
       "step": null,
       "style": "IPY_MODEL_5415f8ba5ec64de8b82d9196e639f48b",
       "value": 300
      }
     },
     "b964bcff730a4d3fa547de3e453a9381": {
      "model_module": "@jupyter-widgets/controls",
      "model_module_version": "1.0.0",
      "model_name": "FloatTextModel",
      "state": {
       "description": "xmax:",
       "layout": "IPY_MODEL_c55637c3d2944675b1207c44b454fbb6",
       "step": null,
       "style": "IPY_MODEL_d610526835cb4b9fb502dcece170edef",
       "value": 1
      }
     },
     "baeaa2c19e08421fbd6c2475f573e896": {
      "model_module": "@jupyter-widgets/controls",
      "model_module_version": "1.0.0",
      "model_name": "ToggleButtonsModel",
      "state": {
       "_options_labels": [
        "KCSD1D"
       ],
       "button_style": "",
       "description": "KCSD method",
       "icons": [],
       "index": 0,
       "layout": "IPY_MODEL_2bcc093c700d40ab92a761fb78cad2ff",
       "style": "IPY_MODEL_f7a5bf3252ba4d46afde3aa91272f807",
       "tooltips": []
      }
     },
     "bb05e1b213f5497f9f09eb618bc43725": {
      "model_module": "@jupyter-widgets/controls",
      "model_module_version": "1.0.0",
      "model_name": "VBoxModel",
      "state": {
       "children": [
        "IPY_MODEL_160ad3df0f6043beaecc5ec6ab0cd35c",
        "IPY_MODEL_f64fba3a5d734a86888bd727e9cd1908"
       ],
       "layout": "IPY_MODEL_1b122054f4104c6e935cc298a6cf8a0c"
      }
     },
     "bbc162db7906492fb7faf8b1dc9d6048": {
      "model_module": "@jupyter-widgets/controls",
      "model_module_version": "1.0.0",
      "model_name": "FloatTextModel",
      "state": {
       "description": "gdx:",
       "layout": "IPY_MODEL_415c8048189047549046ad607674ad44",
       "step": null,
       "style": "IPY_MODEL_4521e18d2806424992d33d21afc30628",
       "value": 0.01
      }
     },
     "bdac8a396ad54b17b9fb1a852b4cebeb": {
      "model_module": "@jupyter-widgets/controls",
      "model_module_version": "1.0.0",
      "model_name": "VBoxModel",
      "state": {
       "children": [
        "IPY_MODEL_e5ba1b59637942129ee40e9342925ee1",
        "IPY_MODEL_06226fed6350423cbf9c246422cc66ae"
       ],
       "layout": "IPY_MODEL_6403a920991e417c946ad44fdcf15144"
      }
     },
     "bdf39c6134094af487205d130be45209": {
      "model_module": "@jupyter-widgets/base",
      "model_module_version": "1.0.0",
      "model_name": "LayoutModel",
      "state": {}
     },
     "be2146ef7888489e9bade6f4776987a9": {
      "model_module": "@jupyter-widgets/base",
      "model_module_version": "1.0.0",
      "model_name": "LayoutModel",
      "state": {}
     },
     "be2564339569406b8b808fb03f983a5e": {
      "model_module": "@jupyter-widgets/base",
      "model_module_version": "1.0.0",
      "model_name": "LayoutModel",
      "state": {}
     },
     "bf081d18686841f09d4bc7506cab14b1": {
      "model_module": "@jupyter-widgets/controls",
      "model_module_version": "1.0.0",
      "model_name": "DescriptionStyleModel",
      "state": {
       "description_width": ""
      }
     },
     "bf5c0012cffc4b409773a8cbf3d6751e": {
      "model_module": "@jupyter-widgets/controls",
      "model_module_version": "1.0.0",
      "model_name": "DescriptionStyleModel",
      "state": {
       "description_width": ""
      }
     },
     "c000c25727db41acbbb7ea27a3ab70f6": {
      "model_module": "@jupyter-widgets/controls",
      "model_module_version": "1.0.0",
      "model_name": "DescriptionStyleModel",
      "state": {
       "description_width": ""
      }
     },
     "c0038387e6c94080a05df22f68670c03": {
      "model_module": "@jupyter-widgets/controls",
      "model_module_version": "1.0.0",
      "model_name": "ToggleButtonsStyleModel",
      "state": {
       "_model_module": "@jupyter-widgets/controls",
       "button_width": ""
      }
     },
     "c0a8c5c4cd744734ab2de2e9e1ae9a6b": {
      "model_module": "@jupyter-widgets/controls",
      "model_module_version": "1.0.0",
      "model_name": "AccordionModel",
      "state": {
       "_titles": {
        "0": "Source assumptions",
        "1": "Estimate positions",
        "2": "Medium assumptions"
       },
       "children": [
        "IPY_MODEL_23090f2e8fd04dda96563b1a40b19e2a",
        "IPY_MODEL_e25b426795f140869cecd37c28cd94c0",
        "IPY_MODEL_6f1284289cf244b5a32758a25dad5456"
       ],
       "layout": "IPY_MODEL_2ae977b355b444dc80af5c9fb13dc90f"
      }
     },
     "c0be61198ad3421396ace804e2021c57": {
      "model_module": "@jupyter-widgets/base",
      "model_module_version": "1.0.0",
      "model_name": "LayoutModel",
      "state": {}
     },
     "c39d99c8a037494f94ea1b844bd989a7": {
      "model_module": "@jupyter-widgets/controls",
      "model_module_version": "1.0.0",
      "model_name": "VBoxModel",
      "state": {
       "children": [
        "IPY_MODEL_1536f3419aae4adb9d64756a08e3631c",
        "IPY_MODEL_b934e47eb9294f46bf55cbba6c60e21e"
       ],
       "layout": "IPY_MODEL_dcb8beb3c971493a816539ef8995d927"
      }
     },
     "c3af190f5f974cf194acc35d340c5e56": {
      "model_module": "@jupyter-widgets/controls",
      "model_module_version": "1.0.0",
      "model_name": "VBoxModel",
      "state": {
       "children": [
        "IPY_MODEL_e5ba1b59637942129ee40e9342925ee1",
        "IPY_MODEL_06226fed6350423cbf9c246422cc66ae",
        "IPY_MODEL_3f3298eac9c44ca38b0874553bbe64b4"
       ],
       "layout": "IPY_MODEL_df466eaa2e52404fa8b9252bdf754e9c"
      }
     },
     "c45bafb7e6214064b51503847dc48c2f": {
      "model_module": "@jupyter-widgets/base",
      "model_module_version": "1.0.0",
      "model_name": "LayoutModel",
      "state": {}
     },
     "c4b64239123f421ab81c6dceb3eef16c": {
      "model_module": "@jupyter-widgets/base",
      "model_module_version": "1.0.0",
      "model_name": "LayoutModel",
      "state": {}
     },
     "c4d38390c5a142388fc981ba6d079c47": {
      "model_module": "@jupyter-widgets/controls",
      "model_module_version": "1.0.0",
      "model_name": "DescriptionStyleModel",
      "state": {
       "description_width": ""
      }
     },
     "c55637c3d2944675b1207c44b454fbb6": {
      "model_module": "@jupyter-widgets/base",
      "model_module_version": "1.0.0",
      "model_name": "LayoutModel",
      "state": {}
     },
     "c5cba1db4b2e42ea8cfe4adaa588b16c": {
      "model_module": "@jupyter-widgets/base",
      "model_module_version": "1.0.0",
      "model_name": "LayoutModel",
      "state": {}
     },
     "c6c65185c513491aa2c9fb0b8437edd8": {
      "model_module": "@jupyter-widgets/base",
      "model_module_version": "1.0.0",
      "model_name": "LayoutModel",
      "state": {}
     },
     "c722c0dde4aa4d21877c26beaa0a1852": {
      "model_module": "@jupyter-widgets/base",
      "model_module_version": "1.0.0",
      "model_name": "LayoutModel",
      "state": {}
     },
     "c893af70da5746a8aa91073804b405e5": {
      "model_module": "@jupyter-widgets/base",
      "model_module_version": "1.0.0",
      "model_name": "LayoutModel",
      "state": {}
     },
     "c9555c501c174db5bf8df42d83892ecc": {
      "model_module": "@jupyter-widgets/controls",
      "model_module_version": "1.0.0",
      "model_name": "FloatTextModel",
      "state": {
       "description": "R_init:",
       "layout": "IPY_MODEL_f50506fd18a840e3970e67a87b8cbb3e",
       "step": null,
       "style": "IPY_MODEL_8f75bc4999cd42389d7269c6615c4103",
       "value": 0.27
      }
     },
     "ca7554e07205446ab11fe9b961f132d6": {
      "model_module": "@jupyter-widgets/base",
      "model_module_version": "1.0.0",
      "model_name": "LayoutModel",
      "state": {}
     },
     "cb6ea2cace2a4ad3937cbc66e3376e4d": {
      "model_module": "@jupyter-widgets/base",
      "model_module_version": "1.0.0",
      "model_name": "LayoutModel",
      "state": {}
     },
     "ccaa5e9d6fc845c9a5a082011022f793": {
      "model_module": "@jupyter-widgets/base",
      "model_module_version": "1.0.0",
      "model_name": "LayoutModel",
      "state": {}
     },
     "cd757110c5344dcbaec4b17c8080d062": {
      "model_module": "@jupyter-widgets/base",
      "model_module_version": "1.0.0",
      "model_name": "LayoutModel",
      "state": {}
     },
     "d10ca9a2c0d64c5ab389f973d5580234": {
      "model_module": "@jupyter-widgets/controls",
      "model_module_version": "1.0.0",
      "model_name": "DescriptionStyleModel",
      "state": {
       "description_width": ""
      }
     },
     "d1779c1a50504c5b9497ddee3659c090": {
      "model_module": "@jupyter-widgets/controls",
      "model_module_version": "1.0.0",
      "model_name": "VBoxModel",
      "state": {
       "children": [
        "IPY_MODEL_d491d33c4cd8409bbc76d5296ae1d294",
        "IPY_MODEL_46c3c20f52e044699b0117e48576affd",
        "IPY_MODEL_8198c5b1d17b42fb9a45dd92b4cb4813"
       ],
       "layout": "IPY_MODEL_49163540ec294208b0ff9baa5e55cf31"
      }
     },
     "d2409f7bc1a9457cb08646df002af0cc": {
      "model_module": "@jupyter-widgets/base",
      "model_module_version": "1.0.0",
      "model_name": "LayoutModel",
      "state": {}
     },
     "d46b42e87d674dc18b9df8df75d9a54d": {
      "model_module": "@jupyter-widgets/controls",
      "model_module_version": "1.0.0",
      "model_name": "VBoxModel",
      "state": {
       "children": [
        "IPY_MODEL_acdade8bb1534e6bad9363358ad7de94",
        "IPY_MODEL_d953e5f9f0c2413c9ddaecb326bf98e1",
        "IPY_MODEL_2da7a1ad0dad4a008c1aa84ccca202f8"
       ],
       "layout": "IPY_MODEL_42a8856832c44cbd8b420c8136a7d60f"
      }
     },
     "d491d33c4cd8409bbc76d5296ae1d294": {
      "model_module": "@jupyter-widgets/controls",
      "model_module_version": "1.0.0",
      "model_name": "FloatTextModel",
      "state": {
       "description": "xmin:",
       "layout": "IPY_MODEL_0e36067713d34649aa6bdb55fd4c1cc5",
       "step": null,
       "style": "IPY_MODEL_b20ea8c927b04ce18fbf05f9b99fe2b1"
      }
     },
     "d51e41677e21452db69aeb65d862b5bb": {
      "model_module": "@jupyter-widgets/base",
      "model_module_version": "1.0.0",
      "model_name": "LayoutModel",
      "state": {}
     },
     "d52fe9cc2dd6421b8e9fa20885418ec0": {
      "model_module": "@jupyter-widgets/base",
      "model_module_version": "1.0.0",
      "model_name": "LayoutModel",
      "state": {}
     },
     "d610526835cb4b9fb502dcece170edef": {
      "model_module": "@jupyter-widgets/controls",
      "model_module_version": "1.0.0",
      "model_name": "DescriptionStyleModel",
      "state": {
       "description_width": ""
      }
     },
     "d674aa66510b4655b7c8b67c0306c023": {
      "model_module": "@jupyter-widgets/base",
      "model_module_version": "1.0.0",
      "model_name": "LayoutModel",
      "state": {}
     },
     "d7756b30afed412eb0de8e60583e2ade": {
      "model_module": "@jupyter-widgets/base",
      "model_module_version": "1.0.0",
      "model_name": "LayoutModel",
      "state": {}
     },
     "d7d38c374b364d2880afeea6b9ff267a": {
      "model_module": "@jupyter-widgets/base",
      "model_module_version": "1.0.0",
      "model_name": "LayoutModel",
      "state": {}
     },
     "d8d7d846065b4416aa3d970c140b202a": {
      "model_module": "@jupyter-widgets/controls",
      "model_module_version": "1.0.0",
      "model_name": "FloatTextModel",
      "state": {
       "description": "lambd:",
       "layout": "IPY_MODEL_b7a99a2e07784d9cba486ce168e456ce",
       "step": null,
       "style": "IPY_MODEL_87468cef092e46bcbeec5d4f75cb0bca"
      }
     },
     "d90a1249689448e3aedefd668ba40d12": {
      "model_module": "@jupyter-widgets/base",
      "model_module_version": "1.0.0",
      "model_name": "LayoutModel",
      "state": {}
     },
     "d953e5f9f0c2413c9ddaecb326bf98e1": {
      "model_module": "@jupyter-widgets/controls",
      "model_module_version": "1.0.0",
      "model_name": "FloatTextModel",
      "state": {
       "description": "n_src_init:",
       "layout": "IPY_MODEL_88b45c0351894d41bfb2fb9d1b475d19",
       "step": null,
       "style": "IPY_MODEL_0fa19fd690884c188c58720fa119bbd3",
       "value": 300
      }
     },
     "db2de8d4238e433fb96b75796af9e975": {
      "model_module": "@jupyter-widgets/controls",
      "model_module_version": "1.0.0",
      "model_name": "DescriptionStyleModel",
      "state": {
       "description_width": ""
      }
     },
     "dba369c746ca4be6941116c64a03eb0f": {
      "model_module": "@jupyter-widgets/base",
      "model_module_version": "1.0.0",
      "model_name": "LayoutModel",
      "state": {}
     },
     "dcb8beb3c971493a816539ef8995d927": {
      "model_module": "@jupyter-widgets/base",
      "model_module_version": "1.0.0",
      "model_name": "LayoutModel",
      "state": {}
     },
     "dd7b8ddb2d7440598eac78bf53d21349": {
      "model_module": "@jupyter-widgets/controls",
      "model_module_version": "1.0.0",
      "model_name": "FloatTextModel",
      "state": {
       "description": "lambd:",
       "layout": "IPY_MODEL_85134d8eab1642faa8747213f0f59be3",
       "step": null,
       "style": "IPY_MODEL_89c249c7361d478da0b4561985b58db5"
      }
     },
     "dee12e408cf7468ca307087b609314b8": {
      "model_module": "@jupyter-widgets/controls",
      "model_module_version": "1.0.0",
      "model_name": "DescriptionStyleModel",
      "state": {
       "description_width": ""
      }
     },
     "df466eaa2e52404fa8b9252bdf754e9c": {
      "model_module": "@jupyter-widgets/base",
      "model_module_version": "1.0.0",
      "model_name": "LayoutModel",
      "state": {}
     },
     "dfb1a0329c22445bbb96f66d610035a8": {
      "model_module": "@jupyter-widgets/base",
      "model_module_version": "1.0.0",
      "model_name": "LayoutModel",
      "state": {}
     },
     "e0028044bddc464f9df5cc25132870c7": {
      "model_module": "@jupyter-widgets/controls",
      "model_module_version": "1.0.0",
      "model_name": "DescriptionStyleModel",
      "state": {
       "description_width": ""
      }
     },
     "e02cc5f420c648a589907ac0a314f55d": {
      "model_module": "@jupyter-widgets/base",
      "model_module_version": "1.0.0",
      "model_name": "LayoutModel",
      "state": {}
     },
     "e2073b5326e94a5caaa39d63a550c51f": {
      "model_module": "@jupyter-widgets/base",
      "model_module_version": "1.0.0",
      "model_name": "LayoutModel",
      "state": {}
     },
     "e25b426795f140869cecd37c28cd94c0": {
      "model_module": "@jupyter-widgets/controls",
      "model_module_version": "1.0.0",
      "model_name": "VBoxModel",
      "state": {
       "children": [
        "IPY_MODEL_86bda8813a1f431fbb7c44dca9179141",
        "IPY_MODEL_ebf55c443b594d43935b7f6aa90e4ce0",
        "IPY_MODEL_b2c8bd668ef643d68bd337e2e09fa447",
        "IPY_MODEL_bbc162db7906492fb7faf8b1dc9d6048"
       ],
       "layout": "IPY_MODEL_f23d9475a1084302ae498a7b788940b0"
      }
     },
     "e30142f0a25e459ea2b5adfb090523ce": {
      "model_module": "@jupyter-widgets/controls",
      "model_module_version": "1.0.0",
      "model_name": "VBoxModel",
      "state": {
       "children": [
        "IPY_MODEL_86bda8813a1f431fbb7c44dca9179141",
        "IPY_MODEL_ebf55c443b594d43935b7f6aa90e4ce0"
       ],
       "layout": "IPY_MODEL_282e062fc87147668410d4fc80ddfaf3"
      }
     },
     "e4f46092c93c4c34ba87f4eddde6bd21": {
      "model_module": "@jupyter-widgets/base",
      "model_module_version": "1.0.0",
      "model_name": "LayoutModel",
      "state": {}
     },
     "e4f5c1499642470d8b46227e52e1ee8d": {
      "model_module": "@jupyter-widgets/controls",
      "model_module_version": "1.0.0",
      "model_name": "FloatTextModel",
      "state": {
       "description": "xmin:",
       "layout": "IPY_MODEL_89587410725449498b312de67d7e38a7",
       "step": null,
       "style": "IPY_MODEL_679f06e46b7a489a871f46ee18dd2c08"
      }
     },
     "e5ba1b59637942129ee40e9342925ee1": {
      "model_module": "@jupyter-widgets/controls",
      "model_module_version": "1.0.0",
      "model_name": "FloatTextModel",
      "state": {
       "description": "xmin:",
       "layout": "IPY_MODEL_f2ccd8b184994309a5b1778f263648be",
       "step": null,
       "style": "IPY_MODEL_99301ba5f9ef4bc096a883ddfb03fadb"
      }
     },
     "e8134e06120e4819943b78ad223a2799": {
      "model_module": "@jupyter-widgets/controls",
      "model_module_version": "1.0.0",
      "model_name": "FloatTextModel",
      "state": {
       "description": "ext_x:",
       "layout": "IPY_MODEL_6b1c4593826541768a83a80e5bc90201",
       "step": null,
       "style": "IPY_MODEL_44345270b4f64300a0992da193c78f65"
      }
     },
     "ebf55c443b594d43935b7f6aa90e4ce0": {
      "model_module": "@jupyter-widgets/controls",
      "model_module_version": "1.0.0",
      "model_name": "FloatTextModel",
      "state": {
       "description": "xmax:",
       "layout": "IPY_MODEL_e2073b5326e94a5caaa39d63a550c51f",
       "step": null,
       "style": "IPY_MODEL_86b33ef7e30f4677963ddb9ecc3e1d8e",
       "value": 1
      }
     },
     "ec24f935d6d34e168e78d10b3ad3d0c5": {
      "model_module": "@jupyter-widgets/controls",
      "model_module_version": "1.0.0",
      "model_name": "DescriptionStyleModel",
      "state": {
       "description_width": ""
      }
     },
     "ec2f9ec8d40d4ec5ab37f902a7c2b810": {
      "model_module": "@jupyter-widgets/controls",
      "model_module_version": "1.0.0",
      "model_name": "VBoxModel",
      "state": {
       "children": [
        "IPY_MODEL_74d5cb86958c4894b371f571a709a589",
        "IPY_MODEL_0d9d0db19c51445581a1e399fb1aba53",
        "IPY_MODEL_26ded960df754b80947b86af0ee24a0c",
        "IPY_MODEL_945449488e9e42f28dde8907e0d7d00d"
       ],
       "layout": "IPY_MODEL_dfb1a0329c22445bbb96f66d610035a8"
      }
     },
     "ec7216c4f2c3463fbe8bfd70124415f3": {
      "model_module": "@jupyter-widgets/controls",
      "model_module_version": "1.0.0",
      "model_name": "AccordionModel",
      "state": {
       "_titles": {
        "0": "Source assumptions",
        "1": "Estimate positions",
        "2": "Medium assumptions"
       },
       "children": [
        "IPY_MODEL_d46b42e87d674dc18b9df8df75d9a54d",
        "IPY_MODEL_1d6d61b4667b484db032f113c14c9dd7",
        "IPY_MODEL_6574e68941aa4e7898d85a3842a227bb"
       ],
       "layout": "IPY_MODEL_24a7e96799994f2195ff9847c017b2ad"
      }
     },
     "ed8d4129c155425e81730df927ce63f8": {
      "model_module": "@jupyter-widgets/controls",
      "model_module_version": "1.0.0",
      "model_name": "ToggleButtonsStyleModel",
      "state": {
       "_model_module": "@jupyter-widgets/controls",
       "button_width": ""
      }
     },
     "edd1bf67252846e795a6922df4eed7c4": {
      "model_module": "@jupyter-widgets/controls",
      "model_module_version": "1.0.0",
      "model_name": "DescriptionStyleModel",
      "state": {
       "description_width": ""
      }
     },
     "eea69e7bc56f43499387934c7e55dc2b": {
      "model_module": "@jupyter-widgets/controls",
      "model_module_version": "1.0.0",
      "model_name": "DescriptionStyleModel",
      "state": {
       "description_width": ""
      }
     },
     "ef235a59c07b4a93a35140527339ecec": {
      "model_module": "@jupyter-widgets/base",
      "model_module_version": "1.0.0",
      "model_name": "LayoutModel",
      "state": {}
     },
     "ef83340dbd504a859be6b219228f7702": {
      "model_module": "@jupyter-widgets/controls",
      "model_module_version": "1.0.0",
      "model_name": "ToggleButtonsStyleModel",
      "state": {
       "_model_module": "@jupyter-widgets/controls",
       "button_width": ""
      }
     },
     "ef86f279f3c840e981401a4e6d6e9bc8": {
      "model_module": "@jupyter-widgets/base",
      "model_module_version": "1.0.0",
      "model_name": "LayoutModel",
      "state": {}
     },
     "f1b285036f6744a6a51b66e8a675c150": {
      "model_module": "@jupyter-widgets/controls",
      "model_module_version": "1.0.0",
      "model_name": "FloatTextModel",
      "state": {
       "description": "h:",
       "layout": "IPY_MODEL_a1a8ebc688bd4afba15f68924baa9836",
       "step": null,
       "style": "IPY_MODEL_583797dd9d74419aa5e44f26576aead3",
       "value": 1
      }
     },
     "f1d63ff8bc92478386b3a35cb5090824": {
      "model_module": "@jupyter-widgets/controls",
      "model_module_version": "1.0.0",
      "model_name": "DescriptionStyleModel",
      "state": {
       "description_width": ""
      }
     },
     "f1f32dd077e14792b0eafdc45a6b1f0a": {
      "model_module": "@jupyter-widgets/controls",
      "model_module_version": "1.0.0",
      "model_name": "VBoxModel",
      "state": {
       "children": [
        "IPY_MODEL_c9555c501c174db5bf8df42d83892ecc",
        "IPY_MODEL_fc6f8b4e0d994ac285956398a2822847"
       ],
       "layout": "IPY_MODEL_d51e41677e21452db69aeb65d862b5bb"
      }
     },
     "f23d9475a1084302ae498a7b788940b0": {
      "model_module": "@jupyter-widgets/base",
      "model_module_version": "1.0.0",
      "model_name": "LayoutModel",
      "state": {}
     },
     "f249e6577c824af2abe2b74cf64a2871": {
      "model_module": "@jupyter-widgets/base",
      "model_module_version": "1.0.0",
      "model_name": "LayoutModel",
      "state": {}
     },
     "f2ccd8b184994309a5b1778f263648be": {
      "model_module": "@jupyter-widgets/base",
      "model_module_version": "1.0.0",
      "model_name": "LayoutModel",
      "state": {}
     },
     "f304bae7f0704a84ace85cfb1980a775": {
      "model_module": "@jupyter-widgets/controls",
      "model_module_version": "1.0.0",
      "model_name": "VBoxModel",
      "state": {
       "children": [
        "IPY_MODEL_e4f5c1499642470d8b46227e52e1ee8d",
        "IPY_MODEL_9977dbb9f52643b19719afd3a1dd8a27",
        "IPY_MODEL_537610b3da71462f82452b705528aae7",
        "IPY_MODEL_4348bfb72c4f4d71a506eb078087e7da"
       ],
       "layout": "IPY_MODEL_3cab2321fd434999924cb0b4a70bf320"
      }
     },
     "f3191083fc1f4c688b369cb79136dfbb": {
      "model_module": "@jupyter-widgets/base",
      "model_module_version": "1.0.0",
      "model_name": "LayoutModel",
      "state": {}
     },
     "f3c1aec78caa4d7781e08f26d27faf77": {
      "model_module": "@jupyter-widgets/base",
      "model_module_version": "1.0.0",
      "model_name": "LayoutModel",
      "state": {}
     },
     "f42aa4a6b3ed481aab5e6e7b42ddcebb": {
      "model_module": "@jupyter-widgets/base",
      "model_module_version": "1.0.0",
      "model_name": "LayoutModel",
      "state": {}
     },
     "f50506fd18a840e3970e67a87b8cbb3e": {
      "model_module": "@jupyter-widgets/base",
      "model_module_version": "1.0.0",
      "model_name": "LayoutModel",
      "state": {}
     },
     "f64fba3a5d734a86888bd727e9cd1908": {
      "model_module": "@jupyter-widgets/controls",
      "model_module_version": "1.0.0",
      "model_name": "FloatTextModel",
      "state": {
       "description": "n_src_init:",
       "layout": "IPY_MODEL_21b2bd3e550646a689899c179ff4c798",
       "step": null,
       "style": "IPY_MODEL_b6c3947c0ea94e5ca6fa0f69324e9742",
       "value": 300
      }
     },
     "f68fbb5382ae4366a8482519c86355fc": {
      "model_module": "@jupyter-widgets/controls",
      "model_module_version": "1.0.0",
      "model_name": "VBoxModel",
      "state": {
       "children": [
        "IPY_MODEL_5cd7578775d14cf48ea796d167205423",
        "IPY_MODEL_61ff127a22194afabc83f3f24b43d75a",
        "IPY_MODEL_a35f52a22ab34c3798fa239ca9fb43f4"
       ],
       "layout": "IPY_MODEL_0938246080f24e6c8145ef7906c3463b"
      }
     },
     "f69fcf225a644bcca3342c53b1bbae71": {
      "model_module": "@jupyter-widgets/controls",
      "model_module_version": "1.0.0",
      "model_name": "DescriptionStyleModel",
      "state": {
       "description_width": ""
      }
     },
     "f6affd7f8b1f4d44806e0ab92018adcc": {
      "model_module": "@jupyter-widgets/base",
      "model_module_version": "1.0.0",
      "model_name": "LayoutModel",
      "state": {}
     },
     "f71616ef76f6411ebc27835e4d3ceac2": {
      "model_module": "@jupyter-widgets/base",
      "model_module_version": "1.0.0",
      "model_name": "LayoutModel",
      "state": {}
     },
     "f7a5bf3252ba4d46afde3aa91272f807": {
      "model_module": "@jupyter-widgets/controls",
      "model_module_version": "1.0.0",
      "model_name": "ToggleButtonsStyleModel",
      "state": {
       "_model_module": "@jupyter-widgets/controls",
       "button_width": ""
      }
     },
     "facbdfd36ca0466ba4cda0f897626928": {
      "model_module": "@jupyter-widgets/base",
      "model_module_version": "1.0.0",
      "model_name": "LayoutModel",
      "state": {}
     },
     "fb5a9713a3404b67ab1228c0bb4415f9": {
      "model_module": "@jupyter-widgets/base",
      "model_module_version": "1.0.0",
      "model_name": "LayoutModel",
      "state": {}
     },
     "fc6f8b4e0d994ac285956398a2822847": {
      "model_module": "@jupyter-widgets/controls",
      "model_module_version": "1.0.0",
      "model_name": "FloatTextModel",
      "state": {
       "description": "n_src_init:",
       "layout": "IPY_MODEL_7e4b2be0ff2f4d80a20670c0b9795ac6",
       "step": null,
       "style": "IPY_MODEL_ec24f935d6d34e168e78d10b3ad3d0c5",
       "value": 300
      }
     },
     "fdc0d3096bad45e1983c7e5b2a5348b4": {
      "model_module": "@jupyter-widgets/controls",
      "model_module_version": "1.0.0",
      "model_name": "VBoxModel",
      "state": {
       "children": [
        "IPY_MODEL_c9555c501c174db5bf8df42d83892ecc"
       ],
       "layout": "IPY_MODEL_700a5ffe662e41d9b451c1687b5ef3a8"
      }
     },
     "fdc8f3d4b4e647b5ba5202644720c7dd": {
      "model_module": "@jupyter-widgets/controls",
      "model_module_version": "1.0.0",
      "model_name": "DescriptionStyleModel",
      "state": {
       "description_width": ""
      }
     },
     "fecfea7f275e47f490c30fa755667811": {
      "model_module": "@jupyter-widgets/controls",
      "model_module_version": "1.0.0",
      "model_name": "DescriptionStyleModel",
      "state": {
       "description_width": ""
      }
     },
     "ffedca2a1ced41f79c6eca8fe98c3ade": {
      "model_module": "@jupyter-widgets/controls",
      "model_module_version": "1.0.0",
      "model_name": "FloatTextModel",
      "state": {
       "description": "h:",
       "layout": "IPY_MODEL_9c4c1025510e446eb62304143e57fcce",
       "step": null,
       "style": "IPY_MODEL_3e5362f3c020456d9dc6fee35dc9c52a",
       "value": 1
      }
     }
    },
    "version_major": 2,
    "version_minor": 0
   }
  }
 },
 "nbformat": 4,
 "nbformat_minor": 2
}
