{
 "cells": [
  {
   "cell_type": "code",
   "execution_count": 1,
   "metadata": {
    "collapsed": true
   },
   "outputs": [],
   "source": [
    "%matplotlib inline\n",
    "import numpy as np\n",
    "import config\n",
    "\n",
    "import plotting_helpers as plots\n",
    "import utility_functions as utils\n",
    "import csd_profile as CSD\n",
    "from KCSD import KCSD1D"
   ]
  },
  {
   "cell_type": "code",
   "execution_count": 2,
   "metadata": {
    "scrolled": true
   },
   "outputs": [
    {
     "data": {
      "image/png": "[encoded data removed]",
      "text/plain": [
       "<matplotlib.figure.Figure at 0x7f2d03eaf690>"
      ]
     },
     "metadata": {},
     "output_type": "display_data"
    }
   ],
   "source": [
    "# Lets say we create a random CSD source\n",
    "csd_profile = CSD.gauss_1d_mono #Type of the CSD Source\n",
    "config.dim = 1\n",
    "csd_at, true_csd = utils.generate_csd(csd_profile)\n",
    "plots.show_csd_1D(csd_at, true_csd)"
   ]
  },
  {
   "cell_type": "code",
   "execution_count": 4,
   "metadata": {},
   "outputs": [
    {
     "data": {
      "image/png": "[encoded data removed]",
      "text/plain": [
       "<matplotlib.figure.Figure at 0x7f2d03eafcd0>"
      ]
     },
     "metadata": {},
     "output_type": "display_data"
    }
   ],
   "source": [
    "csd_at_b =  np.mgrid[1:2:100j]\n",
    "csd_at_b, true_csd_b = utils.generate_csd(csd_profile, csd_at_b, seed=12)\n",
    "plots.show_csd_1D(csd_at_b, true_csd_b)"
   ]
  },
  {
   "cell_type": "code",
   "execution_count": null,
   "metadata": {},
   "outputs": [],
   "source": [
    " #Lets add some electrodes which span the CSD space                                                                                                                                                                                                    \n",
    "num_ele, ele_pos = utils.generate_electrodes(dim=1)\n",
    "plots.show_csd_1D(csd_at, true_csd, show_ele=ele_pos)\n",
    "print('Shape of the ele_pos array: ', ele_pos.shape)\n",
    "print('Number of electrodes: ',ele_pos.shape[0])"
   ]
  },
  {
   "cell_type": "code",
   "execution_count": null,
   "metadata": {},
   "outputs": [],
   "source": [
    "# Lets emulate the case when some of the electrodes are broken / used for stimulation\n",
    "ele_seed = np.random.RandomState(13)\n",
    "ele_fail = ele_seed.choice(num_ele, 3, replace=False)\n",
    "\n",
    "ele_pos = np.delete(ele_pos, ele_fail, axis=0)\n",
    "plots.show_csd_1D(csd_at, true_csd, show_ele=ele_pos)\n",
    "print('Shape of the ele_pos array: ', ele_pos.shape)\n",
    "print('Number of electrodes: ',ele_pos.shape[0])"
   ]
  },
  {
   "cell_type": "code",
   "execution_count": null,
   "metadata": {},
   "outputs": [],
   "source": [
    "# Lets compute the potential recorded by these electrodes due to the CSD\n",
    "r = 10.\n",
    "sigma = 1.\n",
    "pots = utils.calculate_potential_1D(csd_at, true_csd, ele_pos, r, sigma)\n",
    "print(pots.shape)\n",
    "plots.show_pot_1D(ele_pos, pots)\n",
    "#Lets do KCSD!\n",
    "k = KCSD1D(ele_pos.reshape((30,1)), pots.reshape((30,1)), sigma=1., h=10., n_src_init=300) \n",
    "est_csd = k.values()\n",
    "est_pos = k.estm_x\n",
    "plots.show_csd_1D(est_pos, est_csd, show_ele=ele_pos, show_kcsd=True)"
   ]
  },
  {
   "cell_type": "code",
   "execution_count": null,
   "metadata": {
    "collapsed": true
   },
   "outputs": [],
   "source": [
    "k.cross_validate(Rs=np.arange(0.2,0.4,0.01), lambdas=np.logspace(15,-25, 35))\n",
    "est_csd = k.values()\n",
    "est_pos = k.estm_x\n",
    "plots.show_csd_1D(est_pos, est_csd, show_ele=ele_pos, show_kcsd=True)"
   ]
  },
  {
   "cell_type": "code",
   "execution_count": null,
   "metadata": {
    "collapsed": true
   },
   "outputs": [],
   "source": [
    "#RMS of estimation - gives estimate of how good the reconstruction was\n",
    "chr_x, test_csd = utils.generate_csd_1D(csd_profile, csd_seed,\n",
    "                                        start_x=x_lims[0], end_x=x_lims[1], \n",
    "                                        res_x=int((x_lims[1]-x_lims[0])/gdX))\n",
    "rms = np.linalg.norm(abs(test_csd - est_csd[:,0]))\n",
    "rms /= np.linalg.norm(test_csd)\n"
   ]
  },
  {
   "cell_type": "code",
   "execution_count": null,
   "metadata": {
    "collapsed": true
   },
   "outputs": [],
   "source": []
  },
  {
   "cell_type": "code",
   "execution_count": null,
   "metadata": {
    "collapsed": true
   },
   "outputs": [],
   "source": []
  }
 ],
 "metadata": {
  "kernelspec": {
   "display_name": "Python 2",
   "language": "python",
   "name": "python2"
  },
  "language_info": {
   "codemirror_mode": {
    "name": "ipython",
    "version": 2
   },
   "file_extension": ".py",
   "mimetype": "text/x-python",
   "name": "python",
   "nbconvert_exporter": "python",
   "pygments_lexer": "ipython2",
   "version": "2.7.13"
  }
 },
 "nbformat": 4,
 "nbformat_minor": 2
}
