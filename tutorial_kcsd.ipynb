{
 "cells": [
  {
   "cell_type": "code",
   "execution_count": 2,
   "metadata": {},
   "outputs": [
    {
     "name": "stdout",
     "output_type": "stream",
     "text": [
      "Populating the interactive namespace from numpy and matplotlib\n"
     ]
    },
    {
     "ename": "KeyError",
     "evalue": "'type'",
     "output_type": "error",
     "traceback": [
      "\u001b[0;31m---------------------------------------------------------------------------\u001b[0m",
      "\u001b[0;31mKeyError\u001b[0m                                  Traceback (most recent call last)",
      "\u001b[0;32m<ipython-input-2-7a16977901b4>\u001b[0m in \u001b[0;36m<module>\u001b[0;34m()\u001b[0m\n\u001b[1;32m      6\u001b[0m \u001b[0;32mimport\u001b[0m \u001b[0mplotting_helpers\u001b[0m \u001b[0;32mas\u001b[0m \u001b[0mplots\u001b[0m\u001b[0;34m\u001b[0m\u001b[0m\n\u001b[1;32m      7\u001b[0m \u001b[0;32mimport\u001b[0m \u001b[0mutility_functions\u001b[0m \u001b[0;32mas\u001b[0m \u001b[0mutils\u001b[0m\u001b[0;34m\u001b[0m\u001b[0m\n\u001b[0;32m----> 8\u001b[0;31m \u001b[0;32mfrom\u001b[0m \u001b[0mwidget_helpers\u001b[0m \u001b[0;32mimport\u001b[0m \u001b[0mdim_select\u001b[0m\u001b[0;34m,\u001b[0m \u001b[0mcsd_select\u001b[0m\u001b[0;34m,\u001b[0m \u001b[0mkcsd_select\u001b[0m\u001b[0;34m,\u001b[0m \u001b[0maccordion\u001b[0m\u001b[0;34m\u001b[0m\u001b[0m\n\u001b[0m",
      "\u001b[0;32m/home/chaitanya/kCSD-python/widget_helpers.py\u001b[0m in \u001b[0;36m<module>\u001b[0;34m()\u001b[0m\n\u001b[1;32m     67\u001b[0m \u001b[0;34m\u001b[0m\u001b[0m\n\u001b[1;32m     68\u001b[0m \u001b[0;34m\u001b[0m\u001b[0m\n\u001b[0;32m---> 69\u001b[0;31m \u001b[0msrc_ass\u001b[0m \u001b[0;34m=\u001b[0m \u001b[0mwid_lists\u001b[0m\u001b[0;34m(\u001b[0m\u001b[0;34m[\u001b[0m\u001b[0;34m'R_init'\u001b[0m\u001b[0;34m,\u001b[0m \u001b[0;34m'n_src_init'\u001b[0m\u001b[0;34m,\u001b[0m \u001b[0;34m'lambd'\u001b[0m\u001b[0;34m]\u001b[0m\u001b[0;34m)\u001b[0m\u001b[0;34m\u001b[0m\u001b[0m\n\u001b[0m\u001b[1;32m     70\u001b[0m est_pos = wid_lists(['xmin', 'xmax',\n\u001b[1;32m     71\u001b[0m                      \u001b[0;34m'ymin'\u001b[0m\u001b[0;34m,\u001b[0m \u001b[0;34m'ymax'\u001b[0m\u001b[0;34m,\u001b[0m\u001b[0;34m\u001b[0m\u001b[0m\n",
      "\u001b[0;32m/home/chaitanya/kCSD-python/widget_helpers.py\u001b[0m in \u001b[0;36mwid_lists\u001b[0;34m(var_list)\u001b[0m\n\u001b[1;32m     56\u001b[0m \u001b[0;34m\u001b[0m\u001b[0m\n\u001b[1;32m     57\u001b[0m \u001b[0;32mdef\u001b[0m \u001b[0mwid_lists\u001b[0m\u001b[0;34m(\u001b[0m\u001b[0mvar_list\u001b[0m\u001b[0;34m)\u001b[0m\u001b[0;34m:\u001b[0m\u001b[0;34m\u001b[0m\u001b[0m\n\u001b[0;32m---> 58\u001b[0;31m     \u001b[0mdef_dict\u001b[0m  \u001b[0;34m=\u001b[0m\u001b[0mconfig\u001b[0m\u001b[0;34m.\u001b[0m\u001b[0mdefaults\u001b[0m\u001b[0;34m[\u001b[0m\u001b[0mconfig\u001b[0m\u001b[0;34m.\u001b[0m\u001b[0mkCSD\u001b[0m\u001b[0;34m.\u001b[0m\u001b[0m__class__\u001b[0m\u001b[0;34m.\u001b[0m\u001b[0m__name__\u001b[0m\u001b[0;34m]\u001b[0m\u001b[0;34m\u001b[0m\u001b[0m\n\u001b[0m\u001b[1;32m     59\u001b[0m     \u001b[0mwid_list\u001b[0m \u001b[0;34m=\u001b[0m \u001b[0;34m[\u001b[0m\u001b[0;34m]\u001b[0m\u001b[0;34m\u001b[0m\u001b[0m\n\u001b[1;32m     60\u001b[0m     \u001b[0;32mfor\u001b[0m \u001b[0mvar\u001b[0m \u001b[0;32min\u001b[0m \u001b[0mvar_list\u001b[0m\u001b[0;34m:\u001b[0m\u001b[0;34m\u001b[0m\u001b[0m\n",
      "\u001b[0;31mKeyError\u001b[0m: 'type'"
     ]
    }
   ],
   "source": [
    "%pylab inline\n",
    "pylab.rcParams['figure.figsize'] = (10, 6)\n",
    "import numpy as np\n",
    "import config\n",
    "\n",
    "import plotting_helpers as plots\n",
    "import utility_functions as utils\n",
    "from widget_helpers import dim_select, csd_select, kcsd_select, accordion"
   ]
  },
  {
   "cell_type": "code",
   "execution_count": null,
   "metadata": {
    "scrolled": true
   },
   "outputs": [],
   "source": [
    "#Select dimensions of your setup\n",
    "dim_select"
   ]
  },
  {
   "cell_type": "code",
   "execution_count": null,
   "metadata": {},
   "outputs": [],
   "source": [
    "# Select a type of CSD source\n",
    "csd_select"
   ]
  },
  {
   "cell_type": "code",
   "execution_count": null,
   "metadata": {},
   "outputs": [],
   "source": [
    "csd_at, true_csd = utils.generate_csd(config.csd_profile, seed=2)\n",
    "plots.show_csd(csd_at, true_csd)"
   ]
  },
  {
   "cell_type": "code",
   "execution_count": null,
   "metadata": {},
   "outputs": [],
   "source": [
    " #Lets add some electrodes which span the CSD space                                                                                                                                                                                                    \n",
    "num_ele, ele_pos = utils.generate_electrodes()\n",
    "plots.show_csd(csd_at, true_csd, show_ele=ele_pos)\n",
    "print('Shape of the ele_pos array: ', ele_pos.shape)\n",
    "print('Number of electrodes: ',ele_pos.shape[0])"
   ]
  },
  {
   "cell_type": "code",
   "execution_count": null,
   "metadata": {
    "collapsed": true
   },
   "outputs": [],
   "source": [
    "# Lets emulate the case when some of the electrodes are broken / used for stimulation\n",
    "#ele_seed = np.random.RandomState(13)\n",
    "#ele_fail = ele_seed.choice(num_ele, 3, replace=False)\n",
    "#ele_pos_new = np.delete(ele_pos, ele_fail, axis=0)\n",
    "#plots.show_csd(csd_at, true_csd, show_ele=ele_pos)\n",
    "#print('Shape of the ele_pos array: ', ele_pos.shape)\n",
    "#print('Number of electrodes: ',ele_pos.shape[0])"
   ]
  },
  {
   "cell_type": "code",
   "execution_count": null,
   "metadata": {},
   "outputs": [],
   "source": [
    "# Lets compute the potential recorded by these electrodes due to the CSD\n",
    "h = 10.\n",
    "sigma = 1.\n",
    "pots = utils.calculate_potential(csd_at, true_csd, ele_pos, h, sigma)\n",
    "plots.show_pot(ele_pos, pots)"
   ]
  },
  {
   "cell_type": "code",
   "execution_count": null,
   "metadata": {},
   "outputs": [],
   "source": [
    "#Select kCSD method\n",
    "kcsd_select"
   ]
  },
  {
   "cell_type": "code",
   "execution_count": null,
   "metadata": {
    "scrolled": true
   },
   "outputs": [],
   "source": [
    "####TODO temporal illustration here\n",
    "#Lets do KCSD!\n",
    "k = config.kCSD(ele_pos, pots) \n",
    "est_csd = k.values()[:,...,0]\n",
    "est_pos = k.estm_pos\n",
    "plots.show_csd(est_pos, est_csd, show_ele=ele_pos, show_kcsd=True)"
   ]
  },
  {
   "cell_type": "code",
   "execution_count": null,
   "metadata": {},
   "outputs": [],
   "source": [
    "k.cross_validate(Rs=np.arange(0.10, 0.25, 0.01), lambdas=np.logspace(15,-25, 35))\n",
    "est_csd = k.values()[:,...,0]\n",
    "plots.show_csd(est_pos, est_csd, show_ele=ele_pos, show_kcsd=True)"
   ]
  }
 ],
 "metadata": {
  "kernelspec": {
   "display_name": "Python 2",
   "language": "python",
   "name": "python2"
  },
  "language_info": {
   "codemirror_mode": {
    "name": "ipython",
    "version": 2
   },
   "file_extension": ".py",
   "mimetype": "text/x-python",
   "name": "python",
   "nbconvert_exporter": "python",
   "pygments_lexer": "ipython2",
   "version": "2.7.13"
  }
 },
 "nbformat": 4,
 "nbformat_minor": 2
}
